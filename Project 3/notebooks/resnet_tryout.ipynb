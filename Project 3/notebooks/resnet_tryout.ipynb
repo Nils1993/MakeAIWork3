{
 "cells": [
  {
   "cell_type": "code",
   "execution_count": 18,
   "metadata": {},
   "outputs": [],
   "source": [
    "import torchvision.transforms as T\n",
    "from torch.utils.data import Subset, Dataset, DataLoader, random_split\n",
    "from torch import nn\n",
    "import torch.nn.functional\n",
    "from torchvision.datasets import ImageFolder\n",
    "from torchvision.io import read_image, ImageReadMode\n",
    "from torchvision import models\n",
    "import torch\n",
    "import pickle as pkl\n",
    "import os\n",
    "from PIL import Image\n"
   ]
  },
  {
   "attachments": {},
   "cell_type": "markdown",
   "metadata": {},
   "source": [
    "<h1>Trying a predefined model (Resnet)</h1>"
   ]
  },
  {
   "cell_type": "code",
   "execution_count": 2,
   "metadata": {},
   "outputs": [],
   "source": [
    "\n",
    "dataset_path = \"../informatie/apple_disease_classification/images/Train/Dataset/\""
   ]
  },
  {
   "cell_type": "code",
   "execution_count": 3,
   "metadata": {},
   "outputs": [],
   "source": [
    "class DatasetAppels(Dataset):\n",
    "    def __init__(self, img_folder_path, transform):\n",
    "\n",
    "        image_folder = ImageFolder(img_folder_path, transform=transform)\n",
    "        self.images = [image[0] for image in image_folder]\n",
    "        self.labels = image_folder.targets\n",
    "        self.class_dict = image_folder.class_to_idx\n",
    "\n",
    "    def __len__(self):\n",
    "        return len(self.images)\n",
    "    \n",
    "    def __getitem__(self, idx):\n",
    "        return [self.images[idx], self.labels[idx]]\n",
    "        "
   ]
  },
  {
   "cell_type": "code",
   "execution_count": 4,
   "metadata": {},
   "outputs": [],
   "source": [
    "preprocess = T.Compose([\n",
    "    T.Resize(256),\n",
    "    T.CenterCrop(224),\n",
    "    T.ToTensor(),\n",
    "    T.Normalize(mean=[0.485, 0.456, 0.406], std=[0.229, 0.224, 0.225]),\n",
    "])"
   ]
  },
  {
   "cell_type": "code",
   "execution_count": 5,
   "metadata": {},
   "outputs": [],
   "source": [
    "dataset = DatasetAppels(dataset_path, preprocess)"
   ]
  },
  {
   "cell_type": "code",
   "execution_count": 6,
   "metadata": {},
   "outputs": [
    {
     "name": "stdout",
     "output_type": "stream",
     "text": [
      "292 292 291\n"
     ]
    }
   ],
   "source": [
    "generator1 = torch.Generator().manual_seed(13)\n",
    "\n",
    "# create a train test split with 60% train, 20% test, 20% val. For later use\n",
    "train_dataset, test_dataset, val_dataset, _ = random_split(dataset, [0.2, 0.2, 0.2, 0.4], generator=generator1)\n",
    "print(len(train_dataset), len(test_dataset), len(val_dataset))\n",
    "\n",
    "# Create train, test and val dataloaders for later use.\n",
    "train_loader = DataLoader(train_dataset, batch_size=10, shuffle=True)\n",
    "\n",
    "test_loader = DataLoader(test_dataset, batch_size=10, shuffle=False)\n",
    "\n",
    "val_loader = DataLoader(val_dataset, batch_size=10, shuffle=False)"
   ]
  },
  {
   "cell_type": "code",
   "execution_count": 7,
   "metadata": {},
   "outputs": [],
   "source": [
    "# Resnet variants:\n",
    "# model = torch.hub.load('pytorch/vision:v0.10.0', 'resnet18', pretrained=True)\n",
    "# model = torch.hub.load('pytorch/vision:v0.10.0', 'resnet34', pretrained=True)\n",
    "# model = torch.hub.load('pytorch/vision:v0.10.0', 'resnet50', pretrained=True)\n",
    "# model = torch.hub.load('pytorch/vision:v0.10.0', 'resnet101', pretrained=True)\n",
    "# model = torch.hub.load('pytorch/vision:v0.10.0', 'resnet152', pretrained=False)"
   ]
  },
  {
   "cell_type": "code",
   "execution_count": 15,
   "metadata": {},
   "outputs": [],
   "source": [
    "class Resnet50():\n",
    "    def __init__(self):      \n",
    "        self.model = models.resnet50(weights='IMAGENET1K_V1')\n",
    "        num_ftrs = self.model.fc.in_features\n",
    "\n",
    "        # set number of output classes\n",
    "\n",
    "        self.model.fc = nn.Linear(num_ftrs, 4)\n",
    "        self.model = self.model.to(\"cuda\")\n",
    "        self.loss_func = nn.CrossEntropyLoss()\n",
    "\n",
    "    # Function for cuda\n",
    "    def cuda_available(self):\n",
    "\n",
    "        if torch.cuda.is_available():\n",
    "            return torch.device(\"cuda\")\n",
    "        else:\n",
    "            return torch.device(\"cpu\")\n",
    "        \n",
    "    # Create a function to calculate the loss\n",
    "    def loss_calc(self, batch):\n",
    "        image = batch[0].to(self.cuda_available())\n",
    "        labels = batch[1].to(self.cuda_available())\n",
    "        pred = self.model(image)        \n",
    "        loss = self.loss_func(pred, labels)\n",
    "        return loss\n",
    "    \n",
    "    # Create function to evaluate the accuracy of my model\n",
    "    def evaluate_accuracy(self, test_loader):\n",
    "        cor_pred = 0\n",
    "        bad_pred = 0\n",
    "        for batch in test_loader:\n",
    "            image, labels = batch\n",
    "            image = image.to(self.cuda_available())\n",
    "            labels = labels.to(self.cuda_available())\n",
    "            pred = self.model(image)\n",
    "    \n",
    "            _, y_pred = torch.max(pred,1)\n",
    "\n",
    "            for image, labels in zip(y_pred, labels):\n",
    "                if image == labels:\n",
    "                    cor_pred += 1\n",
    "                else:\n",
    "                    bad_pred += 1\n",
    "\n",
    "        acc = cor_pred/(cor_pred + bad_pred) * 100\n",
    "        return acc\n",
    "\n",
    "    def fit(self, train_loader, val_loader, test_loader, epochs, lr, opt_function=torch.optim.Adam):\n",
    "        \n",
    "        optimizer = opt_function(self.model.parameters(),lr )\n",
    "        # Set to cuda (gpu)\n",
    "        self.model.to(self.cuda_available())\n",
    "        # Create empty list to save the validation results\n",
    "        history = []\n",
    "        # Training loop\n",
    "        for epoch in range(epochs):\n",
    "            print(\"epoch:\",epoch+1)\n",
    "            self.model.train()\n",
    "            \n",
    "            for batch in train_loader:\n",
    "                optimizer.zero_grad()\n",
    "                # I use the function loss_calc that I created below so that I can use this at the validation.\n",
    "                loss = self.loss_calc(batch)\n",
    "                loss.backward()\n",
    "                optimizer.step()\n",
    "\n",
    "            # Validate\n",
    "            with torch.no_grad():    \n",
    "                self.model.eval()\n",
    "                val_loss = []\n",
    "\n",
    "                for batch in val_loader:\n",
    "                    loss = self.loss_calc(batch)\n",
    "                    val_loss.append(loss)  \n",
    "            \n",
    "            # Append the sum(val_loss)\n",
    "            history.append(sum(val_loss))\n",
    "            print(sum(val_loss))        \n",
    "        \n",
    "        # I use a self made function return a percentage of the accuracy\n",
    "        acc = round(self.evaluate_accuracy(test_loader))\n",
    "        print(\"Accuracy:\",acc)\n",
    "        return history, acc\n",
    "    \n",
    "    def predict_image(self, image):\n",
    "        image = image.to(self.cuda_available())\n",
    "        pred = self.model(image)\n",
    "\n",
    "        _, y_pred = torch.max(pred,1)                \n",
    "        result = y_pred\n",
    "\n",
    "        return result"
   ]
  },
  {
   "cell_type": "code",
   "execution_count": 16,
   "metadata": {},
   "outputs": [
    {
     "name": "stdout",
     "output_type": "stream",
     "text": [
      "epoch: 1\n",
      "tensor(17.3222, device='cuda:0')\n",
      "epoch: 2\n",
      "tensor(9.3138, device='cuda:0')\n",
      "epoch: 3\n",
      "tensor(8.1125, device='cuda:0')\n",
      "epoch: 4\n",
      "tensor(7.3294, device='cuda:0')\n",
      "epoch: 5\n",
      "tensor(6.9509, device='cuda:0')\n",
      "epoch: 6\n",
      "tensor(8.0044, device='cuda:0')\n",
      "epoch: 7\n",
      "tensor(7.3569, device='cuda:0')\n",
      "epoch: 8\n",
      "tensor(6.6958, device='cuda:0')\n",
      "epoch: 9\n",
      "tensor(6.3838, device='cuda:0')\n",
      "epoch: 10\n",
      "tensor(8.3294, device='cuda:0')\n",
      "Accuracy: 94\n"
     ]
    },
    {
     "data": {
      "text/plain": [
       "([tensor(17.3222, device='cuda:0'),\n",
       "  tensor(9.3138, device='cuda:0'),\n",
       "  tensor(8.1125, device='cuda:0'),\n",
       "  tensor(7.3294, device='cuda:0'),\n",
       "  tensor(6.9509, device='cuda:0'),\n",
       "  tensor(8.0044, device='cuda:0'),\n",
       "  tensor(7.3569, device='cuda:0'),\n",
       "  tensor(6.6958, device='cuda:0'),\n",
       "  tensor(6.3838, device='cuda:0'),\n",
       "  tensor(8.3294, device='cuda:0')],\n",
       " 94)"
      ]
     },
     "execution_count": 16,
     "metadata": {},
     "output_type": "execute_result"
    }
   ],
   "source": [
    "model = Resnet50()\n",
    "model.fit(train_loader, val_loader, test_loader, lr = 0.00003, epochs=10)"
   ]
  },
  {
   "cell_type": "code",
   "execution_count": 23,
   "metadata": {},
   "outputs": [
    {
     "name": "stdout",
     "output_type": "stream",
     "text": [
      "{'blotch_apples': 0, 'normal_apples': 1, 'rot_apples': 2, 'scab_apples': 3}\n",
      "tensor([1], device='cuda:0')\n",
      "tensor([1], device='cuda:0')\n",
      "tensor([1], device='cuda:0')\n"
     ]
    }
   ],
   "source": [
    "# Lets try with normal images\n",
    "normal = [32, 33, 34]\n",
    "print(dataset.class_dict)\n",
    "for i in normal:\n",
    "    test_path = f\"../informatie/apple_disease_classification/images/Test/Normal_Apple/{i}.jpg\"\n",
    "    test_img = Image.open(test_path)\n",
    "    test_img = preprocess(test_img)\n",
    "\n",
    "    # Since the model expects a batch I have to use the unsqueeze() function\n",
    "    test_img = test_img.unsqueeze(0)\n",
    "    result = model.predict_image(test_img)\n",
    "    print(result)\n"
   ]
  }
 ],
 "metadata": {
  "kernelspec": {
   "display_name": "Python 3",
   "language": "python",
   "name": "python3"
  },
  "language_info": {
   "codemirror_mode": {
    "name": "ipython",
    "version": 3
   },
   "file_extension": ".py",
   "mimetype": "text/x-python",
   "name": "python",
   "nbconvert_exporter": "python",
   "pygments_lexer": "ipython3",
   "version": "3.10.11"
  },
  "orig_nbformat": 4
 },
 "nbformat": 4,
 "nbformat_minor": 2
}
