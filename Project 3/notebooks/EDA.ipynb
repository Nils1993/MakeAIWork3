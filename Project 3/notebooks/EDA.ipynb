{
 "cells": [
  {
   "attachments": {},
   "cell_type": "markdown",
   "metadata": {},
   "source": [
    "<h1>EDA project 3</h1>\n",
    "\n",
    "I start bij manually inspecting the data I've been given.\n",
    "Here I notice some outliers like:\n",
    "-   black and white images\n",
    "-   duplicates\n",
    "-   extra stuff on the image like: arrows, a wasp etc.\n",
    "-   a rot apple in the normal section\n",
    "-   a painting of an apple very far away\n",
    "\n",
    "I decided to delete these images."
   ]
  },
  {
   "attachments": {},
   "cell_type": "markdown",
   "metadata": {},
   "source": [
    "<h3>Now lets start by installing the libraries</h3>"
   ]
  },
  {
   "cell_type": "code",
   "execution_count": null,
   "metadata": {},
   "outputs": [],
   "source": [
    "# Import libraries\n",
    "import matplotlib.pyplot as plt\n",
    "import numpy as np\n",
    "import torchvision\n",
    "import torchvision.transforms as T\n",
    "from torchvision.io import ImageReadMode\n",
    "from torchvision.io import read_image\n",
    "import matplotlib.pyplot as plt\n",
    "import os\n",
    "import math"
   ]
  },
  {
   "attachments": {},
   "cell_type": "markdown",
   "metadata": {},
   "source": [
    "<h3>Create path's</h3>"
   ]
  },
  {
   "cell_type": "code",
   "execution_count": null,
   "metadata": {},
   "outputs": [],
   "source": [
    "# Load path's\n",
    "blotch_directory = \"../informatie/apple_disease_classification/images/Train/Blotch_Apple/\" \n",
    "normal_directory = \"../informatie/apple_disease_classification/images/Train/Normal_Apple/\" \n",
    "rot_directory = \"../informatie/apple_disease_classification/images/Train/Rot_Apple/\" \n",
    "scab_directory = \"../informatie/apple_disease_classification/images/Train/Scab_Apple/\"\n",
    "\n",
    "# Save path's\n",
    "good_apples = \"../informatie/apple_disease_classification/images/Train/Dataset/normal_apples/\"\n",
    "blotch_apples = \"../informatie/apple_disease_classification/images/Train/Dataset/blotch_apples/\"\n",
    "rot_apples = \"../informatie/apple_disease_classification/images/Train/Dataset/rot_apples/\"\n",
    "scab_apples = \"../informatie/apple_disease_classification/images/Train/Dataset/scab_apples/\""
   ]
  },
  {
   "attachments": {},
   "cell_type": "markdown",
   "metadata": {},
   "source": [
    "<h3>Namechange + create lists</h3>"
   ]
  },
  {
   "cell_type": "code",
   "execution_count": null,
   "metadata": {},
   "outputs": [],
   "source": [
    "# I namechange my files. I also put the filepaths in a list.\n",
    "blotch_files = list()\n",
    "normal_files = list()\n",
    "rot_files = list()\n",
    "scab_files = list()\n",
    "\n",
    "# First for blotch\n",
    "counter = 0 \n",
    "for filename in os.listdir(blotch_directory):\n",
    "    imgFile = os.path.join(blotch_directory, filename)\n",
    "\n",
    "    if \".jpg\" in imgFile:\n",
    "        counter += 1\n",
    "        os.rename(imgFile, f\"{blotch_directory}/blotch_{counter}.jpg\")\n",
    "        blotch_files.append(imgFile)\n",
    "\n",
    "# Second for normal\n",
    "counter = 0\n",
    "for filename in os.listdir(normal_directory):\n",
    "    imgFile = os.path.join(normal_directory, filename)\n",
    "\n",
    "    if \".jpg\" in imgFile:\n",
    "        counter += 1\n",
    "        os.rename(imgFile, f\"{normal_directory}/normal_{counter}.jpg\")\n",
    "        normal_files.append(imgFile)\n",
    "\n",
    "# Third for rot\n",
    "counter = 0\n",
    "for filename in os.listdir(rot_directory):\n",
    "    imgFile = os.path.join(rot_directory, filename)\n",
    "\n",
    "    if \".jpg\" in imgFile:\n",
    "        counter += 1\n",
    "        os.rename(imgFile, f\"{rot_directory}/rot_{counter}.jpg\")\n",
    "        rot_files.append(imgFile)\n",
    "\n",
    "# Fourth for scab\n",
    "counter = 0\n",
    "for filename in os.listdir(scab_directory):\n",
    "    imgFile = os.path.join(scab_directory, filename)\n",
    "\n",
    "    if \".jpg\" in imgFile:\n",
    "        counter += 1\n",
    "        os.rename(imgFile, f\"{scab_directory}/scab_{counter}.jpg\")\n",
    "        scab_files.append(imgFile)\n",
    "\n"
   ]
  },
  {
   "cell_type": "code",
   "execution_count": null,
   "metadata": {},
   "outputs": [],
   "source": [
    "# Doublechecking.\n",
    "print(blotch_files)\n",
    "print(normal_files)\n",
    "print(rot_files)\n",
    "print(scab_files)"
   ]
  },
  {
   "attachments": {},
   "cell_type": "markdown",
   "metadata": {},
   "source": [
    "<h3>Load images</h3>"
   ]
  },
  {
   "cell_type": "code",
   "execution_count": null,
   "metadata": {},
   "outputs": [],
   "source": [
    "# Gather data\n",
    "blotch_data = list()\n",
    "normal_data = list()\n",
    "rot_data = list()\n",
    "scab_data = list()\n",
    "\n",
    "# Set ImageReadMode to RGB -> I used to use UNCHANGED, but then the 1 and 4 dim images also stay like that. I want all the images to be the same shape.\n",
    "for b in blotch_files:\n",
    "    blotch_data.append(torchvision.io.read_image(b, ImageReadMode.RGB))\n",
    "for n in normal_files:\n",
    "    normal_data.append(torchvision.io.read_image(n, ImageReadMode.RGB))\n",
    "for r in rot_files:\n",
    "    rot_data.append(torchvision.io.read_image(r, ImageReadMode.RGB))\n",
    "for s in scab_files:\n",
    "    scab_data.append(torchvision.io.read_image(s, ImageReadMode.RGB))\n",
    "\n",
    "print(F\"Blotch images: {len(blotch_data)}\")\n",
    "print(f\"Normal images: {len(normal_data)}\")\n",
    "print(f\"Rot images: {len(rot_data)}\")\n",
    "print(f\"Scab images: {len(scab_data)}\")"
   ]
  },
  {
   "attachments": {},
   "cell_type": "markdown",
   "metadata": {},
   "source": [
    "<h3>Plot images</3>"
   ]
  },
  {
   "cell_type": "code",
   "execution_count": null,
   "metadata": {},
   "outputs": [],
   "source": [
    "# Create a plot-function\n",
    "def plotImgs(img1,img2,img3,img4):\n",
    "    plt.style.use('dark_background') \n",
    "    plt.rcParams[\"font.size\"] = 10\n",
    "    plt.rcParams[\"figure.figsize\"] = (15, 10)\n",
    "\n",
    "    fig, (axL, axL2, axR, axR2) = plt.subplots(ncols=4, constrained_layout=True)\n",
    "    \n",
    "    imL = axL.imshow(img1.permute(1,2,0))\n",
    "    imR = axL2.imshow(img2.permute(1,2,0))\n",
    "    im3 = axR.imshow(img3.permute(1,2,0))\n",
    "    im4 = axR2.imshow(img4.permute(1,2,0))\n",
    "\n",
    "plotImgs(normal_data[0],normal_data[1],normal_data[2],normal_data[3])"
   ]
  },
  {
   "attachments": {},
   "cell_type": "markdown",
   "metadata": {},
   "source": [
    "<h3>Resize images to the same size</h3>"
   ]
  },
  {
   "cell_type": "code",
   "execution_count": null,
   "metadata": {},
   "outputs": [],
   "source": [
    "# Resize images\n",
    "resize = T.Resize((128,128))\n",
    "\n",
    "for i in range(len(normal_data)):\n",
    "    normal_data[i] = resize(normal_data[i])\n",
    "for i in range(len(blotch_data)):\n",
    "    blotch_data[i] = resize(blotch_data[i])\n",
    "for i in range(len(rot_data)):\n",
    "    rot_data[i] = resize(rot_data[i])\n",
    "for i in range(len(scab_data)):\n",
    "    scab_data[i] = resize(scab_data[i])\n",
    "\n",
    "print(normal_data[3].shape)\n",
    "print(blotch_data[3].shape)\n",
    "print(rot_data[3].shape)\n",
    "print(scab_data[3].shape)\n",
    "\n"
   ]
  },
  {
   "attachments": {},
   "cell_type": "markdown",
   "metadata": {},
   "source": [
    "<h2>After creating my CNN I decided to generate more normal images, so I've come back to this notebook to do this.</h2>\n",
    "-   after finding some images from the internet and from the test set I'll do the augmentation and add these to my normal_data list."
   ]
  },
  {
   "cell_type": "code",
   "execution_count": null,
   "metadata": {},
   "outputs": [],
   "source": [
    "extra_normal_dir = \"../informatie/apple_disease_classification/images/Test/Extra_Normal\"\n",
    "\n",
    "extra_normal_files = list()\n",
    "counter = 0 \n",
    "for filename in os.listdir(extra_normal_dir):\n",
    "    imgFile = os.path.join(extra_normal_dir, filename)\n",
    "\n",
    "    if \".jpg\" in imgFile:\n",
    "        counter += 1\n",
    "        os.rename(imgFile, f\"{extra_normal_dir}/extra_{counter}.jpg\")\n",
    "        extra_normal_files.append(imgFile)"
   ]
  },
  {
   "cell_type": "code",
   "execution_count": null,
   "metadata": {},
   "outputs": [],
   "source": [
    "extra_normal_data = list()\n",
    "for n in extra_normal_files:\n",
    "    extra_normal_data.append(torchvision.io.read_image(n, ImageReadMode.RGB))\n",
    "print(extra_normal_data[0].shape)"
   ]
  },
  {
   "cell_type": "code",
   "execution_count": null,
   "metadata": {},
   "outputs": [],
   "source": [
    "resize = T.Resize((128,128))\n",
    "for i in range(len(extra_normal_data)):\n",
    "    extra_normal_data[i] = resize(extra_normal_data[i])\n",
    "\n",
    "print(extra_normal_data[0].shape)"
   ]
  },
  {
   "attachments": {},
   "cell_type": "markdown",
   "metadata": {},
   "source": [
    "<h2>Now I save the images and check manually if they look OK, if not I remove them.</h2>"
   ]
  },
  {
   "cell_type": "code",
   "execution_count": null,
   "metadata": {},
   "outputs": [],
   "source": [
    "# Save images\n",
    "for i in range(len(normal_data)):\n",
    "    torchvision.io.write_jpeg(normal_data[i],filename=f\"{good_apples}good_apple{i}.jpg\")\n",
    "\n",
    "for i in range(len(extra_normal_data)):\n",
    "    torchvision.io.write_jpeg(extra_normal_data[i],filename=f\"{good_apples}extra_apple{i}.jpg\")\n",
    "\n",
    "for i in range(len(blotch_data)):\n",
    "    torchvision.io.write_jpeg(blotch_data[i],filename=f\"{blotch_apples}blotch_apple{i}.jpg\")\n",
    "\n",
    "for i in range(len(rot_data)):\n",
    "    torchvision.io.write_jpeg(rot_data[i],filename=f\"{rot_apples}rot_apple{i}.jpg\")\n",
    "\n",
    "for i in range(len(scab_data)):\n",
    "    torchvision.io.write_jpeg(scab_data[i],filename=f\"{scab_apples}scab_apple{i}.jpg\")"
   ]
  },
  {
   "attachments": {},
   "cell_type": "markdown",
   "metadata": {},
   "source": [
    "<h3>Next I want to flip and rotate the images so that I have more to work with</h3> \n",
    "\n",
    "I will do this in augment.py"
   ]
  }
 ],
 "metadata": {
  "kernelspec": {
   "display_name": "Python 3",
   "language": "python",
   "name": "python3"
  },
  "language_info": {
   "codemirror_mode": {
    "name": "ipython",
    "version": 3
   },
   "file_extension": ".py",
   "mimetype": "text/x-python",
   "name": "python",
   "nbconvert_exporter": "python",
   "pygments_lexer": "ipython3",
   "version": "3.10.11"
  },
  "orig_nbformat": 4
 },
 "nbformat": 4,
 "nbformat_minor": 2
}
