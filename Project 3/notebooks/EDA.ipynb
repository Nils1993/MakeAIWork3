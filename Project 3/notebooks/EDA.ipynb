{
 "cells": [
  {
   "attachments": {},
   "cell_type": "markdown",
   "metadata": {},
   "source": [
    "<h1>EDA project 3</h1>\n",
    "\n",
    "I start bij manually inspecting the data I've been given.\n",
    "Here I notice some outliers like:\n",
    "-   black and white images\n",
    "-   duplicates\n",
    "-   extra stuff on the image like: arrows, a wasp etc.\n",
    "-   a rot apple in the normal section\n",
    "-   a painting of an apple very far away\n",
    "\n",
    "I decided to put these images in a different folder called outliers, I did this for the train AND the test files. I can experiment with these outliers later, but for now I want a basic working model to start with."
   ]
  },
  {
   "attachments": {},
   "cell_type": "markdown",
   "metadata": {},
   "source": [
    "<h3>Now lets start the process!</h3>"
   ]
  },
  {
   "cell_type": "code",
   "execution_count": 5,
   "metadata": {},
   "outputs": [],
   "source": [
    "# Import libraries\n",
    "import pandas as pd\n",
    "import matplotlib.pyplot as plt\n",
    "import torch\n",
    "import numpy as np\n",
    "import torchvision\n",
    "import torchvision.transforms.functional as F\n",
    "import torchvision.transforms as T\n",
    "from torchvision.io import ImageReadMode\n",
    "from torchvision.io import read_image\n",
    "from torch import nn\n",
    "from torch.utils.data import Dataset, DataLoader\n",
    "import matplotlib.pyplot as plt\n",
    "import torch.nn.functional\n",
    "import os\n",
    "import math"
   ]
  },
  {
   "cell_type": "code",
   "execution_count": 2,
   "metadata": {},
   "outputs": [],
   "source": [
    "# Create path's\n",
    "blotch_directory = \"../informatie/apple_disease_classification/Train/Blotch_Apple/\" \n",
    "normal_directory = \"../informatie/apple_disease_classification/Train/Normal_Apple/\" \n",
    "rot_directory = \"../informatie/apple_disease_classification/Train/Rot_Apple/\" \n",
    "scab_directory = \"../informatie/apple_disease_classification/Train/Scab_Apple/\" "
   ]
  },
  {
   "cell_type": "code",
   "execution_count": 26,
   "metadata": {},
   "outputs": [],
   "source": [
    "# I namechange my files. I also put the filepaths in a list.\n",
    "blotch_files = list()\n",
    "normal_files = list()\n",
    "rot_files = list()\n",
    "scab_files = list()\n",
    "\n",
    "# First for blotch\n",
    "counter = 0 \n",
    "for filename in os.listdir(blotch_directory):\n",
    "    imgFile = os.path.join(blotch_directory, filename)\n",
    "\n",
    "    if \".jpg\" in imgFile:\n",
    "        counter += 1\n",
    "        # I COMMENTED THIS OUT BECAUSE IF RUN AGAIN IT GIVES AN ERROR SINCE THE NAME ALREADY EXISTS\n",
    "        # os.rename(imgFile, f\"{blotch_directory}/blotch_{counter}.jpg\")\n",
    "        blotch_files.append(imgFile)\n",
    "\n",
    "# Second for normal\n",
    "counter = 0\n",
    "for filename in os.listdir(normal_directory):\n",
    "    imgFile = os.path.join(normal_directory, filename)\n",
    "\n",
    "    if \".jpg\" in imgFile:\n",
    "        counter += 1\n",
    "        # I COMMENTED THIS OUT BECAUSE IF RUN AGAIN IT GIVES AN ERROR BECAUSE THE NAME ALREADY EXISTS\n",
    "        # os.rename(imgFile, f\"{normal_directory}/normal_{counter}.jpg\")\n",
    "        normal_files.append(imgFile)\n",
    "\n",
    "# Third for rot\n",
    "counter = 0\n",
    "for filename in os.listdir(rot_directory):\n",
    "    imgFile = os.path.join(rot_directory, filename)\n",
    "\n",
    "    if \".jpg\" in imgFile:\n",
    "        counter += 1\n",
    "        # I COMMENTED THIS OUT BECAUSE IF RUN AGAIN IT GIVES AN ERROR BECAUSE THE NAME ALREADY EXISTS\n",
    "        # os.rename(imgFile, f\"{rot_directory}/rot_{counter}.jpg\")\n",
    "        rot_files.append(imgFile)\n",
    "\n",
    "# Fourth for scab\n",
    "counter = 0\n",
    "for filename in os.listdir(scab_directory):\n",
    "    imgFile = os.path.join(scab_directory, filename)\n",
    "\n",
    "    if \".jpg\" in imgFile:\n",
    "        counter += 1\n",
    "        # I COMMENTED THIS OUT BECAUSE IF RUN AGAIN IT GIVES AN ERROR BECAUSE THE NAME ALREADY EXISTS\n",
    "        # os.rename(imgFile, f\"{scab_directory}/scab_{counter}.jpg\")\n",
    "        scab_files.append(imgFile)\n",
    "\n"
   ]
  },
  {
   "cell_type": "code",
   "execution_count": 28,
   "metadata": {},
   "outputs": [
    {
     "name": "stdout",
     "output_type": "stream",
     "text": [
      "['../informatie/apple_disease_classification/Train/Blotch_Apple\\\\blotch_1.jpg', '../informatie/apple_disease_classification/Train/Blotch_Apple\\\\blotch_10.jpg', '../informatie/apple_disease_classification/Train/Blotch_Apple\\\\blotch_100.jpg', '../informatie/apple_disease_classification/Train/Blotch_Apple\\\\blotch_101.jpg', '../informatie/apple_disease_classification/Train/Blotch_Apple\\\\blotch_102.jpg', '../informatie/apple_disease_classification/Train/Blotch_Apple\\\\blotch_103.jpg', '../informatie/apple_disease_classification/Train/Blotch_Apple\\\\blotch_104.jpg', '../informatie/apple_disease_classification/Train/Blotch_Apple\\\\blotch_105.jpg', '../informatie/apple_disease_classification/Train/Blotch_Apple\\\\blotch_106.jpg', '../informatie/apple_disease_classification/Train/Blotch_Apple\\\\blotch_107.jpg', '../informatie/apple_disease_classification/Train/Blotch_Apple\\\\blotch_108.jpg', '../informatie/apple_disease_classification/Train/Blotch_Apple\\\\blotch_109.jpg', '../informatie/apple_disease_classification/Train/Blotch_Apple\\\\blotch_11.jpg', '../informatie/apple_disease_classification/Train/Blotch_Apple\\\\blotch_110.jpg', '../informatie/apple_disease_classification/Train/Blotch_Apple\\\\blotch_111.jpg', '../informatie/apple_disease_classification/Train/Blotch_Apple\\\\blotch_112.jpg', '../informatie/apple_disease_classification/Train/Blotch_Apple\\\\blotch_12.jpg', '../informatie/apple_disease_classification/Train/Blotch_Apple\\\\blotch_13.jpg', '../informatie/apple_disease_classification/Train/Blotch_Apple\\\\blotch_14.jpg', '../informatie/apple_disease_classification/Train/Blotch_Apple\\\\blotch_15.jpg', '../informatie/apple_disease_classification/Train/Blotch_Apple\\\\blotch_16.jpg', '../informatie/apple_disease_classification/Train/Blotch_Apple\\\\blotch_17.jpg', '../informatie/apple_disease_classification/Train/Blotch_Apple\\\\blotch_18.jpg', '../informatie/apple_disease_classification/Train/Blotch_Apple\\\\blotch_19.jpg', '../informatie/apple_disease_classification/Train/Blotch_Apple\\\\blotch_2.jpg', '../informatie/apple_disease_classification/Train/Blotch_Apple\\\\blotch_20.jpg', '../informatie/apple_disease_classification/Train/Blotch_Apple\\\\blotch_21.jpg', '../informatie/apple_disease_classification/Train/Blotch_Apple\\\\blotch_22.jpg', '../informatie/apple_disease_classification/Train/Blotch_Apple\\\\blotch_23.jpg', '../informatie/apple_disease_classification/Train/Blotch_Apple\\\\blotch_24.jpg', '../informatie/apple_disease_classification/Train/Blotch_Apple\\\\blotch_25.jpg', '../informatie/apple_disease_classification/Train/Blotch_Apple\\\\blotch_26.jpg', '../informatie/apple_disease_classification/Train/Blotch_Apple\\\\blotch_27.jpg', '../informatie/apple_disease_classification/Train/Blotch_Apple\\\\blotch_28.jpg', '../informatie/apple_disease_classification/Train/Blotch_Apple\\\\blotch_29.jpg', '../informatie/apple_disease_classification/Train/Blotch_Apple\\\\blotch_3.jpg', '../informatie/apple_disease_classification/Train/Blotch_Apple\\\\blotch_30.jpg', '../informatie/apple_disease_classification/Train/Blotch_Apple\\\\blotch_31.jpg', '../informatie/apple_disease_classification/Train/Blotch_Apple\\\\blotch_32.jpg', '../informatie/apple_disease_classification/Train/Blotch_Apple\\\\blotch_33.jpg', '../informatie/apple_disease_classification/Train/Blotch_Apple\\\\blotch_34.jpg', '../informatie/apple_disease_classification/Train/Blotch_Apple\\\\blotch_35.jpg', '../informatie/apple_disease_classification/Train/Blotch_Apple\\\\blotch_36.jpg', '../informatie/apple_disease_classification/Train/Blotch_Apple\\\\blotch_37.jpg', '../informatie/apple_disease_classification/Train/Blotch_Apple\\\\blotch_38.jpg', '../informatie/apple_disease_classification/Train/Blotch_Apple\\\\blotch_39.jpg', '../informatie/apple_disease_classification/Train/Blotch_Apple\\\\blotch_4.jpg', '../informatie/apple_disease_classification/Train/Blotch_Apple\\\\blotch_40.jpg', '../informatie/apple_disease_classification/Train/Blotch_Apple\\\\blotch_41.jpg', '../informatie/apple_disease_classification/Train/Blotch_Apple\\\\blotch_42.jpg', '../informatie/apple_disease_classification/Train/Blotch_Apple\\\\blotch_43.jpg', '../informatie/apple_disease_classification/Train/Blotch_Apple\\\\blotch_44.jpg', '../informatie/apple_disease_classification/Train/Blotch_Apple\\\\blotch_45.jpg', '../informatie/apple_disease_classification/Train/Blotch_Apple\\\\blotch_46.jpg', '../informatie/apple_disease_classification/Train/Blotch_Apple\\\\blotch_47.jpg', '../informatie/apple_disease_classification/Train/Blotch_Apple\\\\blotch_48.jpg', '../informatie/apple_disease_classification/Train/Blotch_Apple\\\\blotch_49.jpg', '../informatie/apple_disease_classification/Train/Blotch_Apple\\\\blotch_5.jpg', '../informatie/apple_disease_classification/Train/Blotch_Apple\\\\blotch_50.jpg', '../informatie/apple_disease_classification/Train/Blotch_Apple\\\\blotch_51.jpg', '../informatie/apple_disease_classification/Train/Blotch_Apple\\\\blotch_52.jpg', '../informatie/apple_disease_classification/Train/Blotch_Apple\\\\blotch_53.jpg', '../informatie/apple_disease_classification/Train/Blotch_Apple\\\\blotch_54.jpg', '../informatie/apple_disease_classification/Train/Blotch_Apple\\\\blotch_55.jpg', '../informatie/apple_disease_classification/Train/Blotch_Apple\\\\blotch_56.jpg', '../informatie/apple_disease_classification/Train/Blotch_Apple\\\\blotch_57.jpg', '../informatie/apple_disease_classification/Train/Blotch_Apple\\\\blotch_58.jpg', '../informatie/apple_disease_classification/Train/Blotch_Apple\\\\blotch_59.jpg', '../informatie/apple_disease_classification/Train/Blotch_Apple\\\\blotch_6.jpg', '../informatie/apple_disease_classification/Train/Blotch_Apple\\\\blotch_60.jpg', '../informatie/apple_disease_classification/Train/Blotch_Apple\\\\blotch_61.jpg', '../informatie/apple_disease_classification/Train/Blotch_Apple\\\\blotch_62.jpg', '../informatie/apple_disease_classification/Train/Blotch_Apple\\\\blotch_63.jpg', '../informatie/apple_disease_classification/Train/Blotch_Apple\\\\blotch_64.jpg', '../informatie/apple_disease_classification/Train/Blotch_Apple\\\\blotch_65.jpg', '../informatie/apple_disease_classification/Train/Blotch_Apple\\\\blotch_66.jpg', '../informatie/apple_disease_classification/Train/Blotch_Apple\\\\blotch_67.jpg', '../informatie/apple_disease_classification/Train/Blotch_Apple\\\\blotch_68.jpg', '../informatie/apple_disease_classification/Train/Blotch_Apple\\\\blotch_69.jpg', '../informatie/apple_disease_classification/Train/Blotch_Apple\\\\blotch_7.jpg', '../informatie/apple_disease_classification/Train/Blotch_Apple\\\\blotch_70.jpg', '../informatie/apple_disease_classification/Train/Blotch_Apple\\\\blotch_71.jpg', '../informatie/apple_disease_classification/Train/Blotch_Apple\\\\blotch_72.jpg', '../informatie/apple_disease_classification/Train/Blotch_Apple\\\\blotch_73.jpg', '../informatie/apple_disease_classification/Train/Blotch_Apple\\\\blotch_74.jpg', '../informatie/apple_disease_classification/Train/Blotch_Apple\\\\blotch_75.jpg', '../informatie/apple_disease_classification/Train/Blotch_Apple\\\\blotch_76.jpg', '../informatie/apple_disease_classification/Train/Blotch_Apple\\\\blotch_77.jpg', '../informatie/apple_disease_classification/Train/Blotch_Apple\\\\blotch_78.jpg', '../informatie/apple_disease_classification/Train/Blotch_Apple\\\\blotch_79.jpg', '../informatie/apple_disease_classification/Train/Blotch_Apple\\\\blotch_8.jpg', '../informatie/apple_disease_classification/Train/Blotch_Apple\\\\blotch_80.jpg', '../informatie/apple_disease_classification/Train/Blotch_Apple\\\\blotch_81.jpg', '../informatie/apple_disease_classification/Train/Blotch_Apple\\\\blotch_82.jpg', '../informatie/apple_disease_classification/Train/Blotch_Apple\\\\blotch_83.jpg', '../informatie/apple_disease_classification/Train/Blotch_Apple\\\\blotch_84.jpg', '../informatie/apple_disease_classification/Train/Blotch_Apple\\\\blotch_85.jpg', '../informatie/apple_disease_classification/Train/Blotch_Apple\\\\blotch_86.jpg', '../informatie/apple_disease_classification/Train/Blotch_Apple\\\\blotch_87.jpg', '../informatie/apple_disease_classification/Train/Blotch_Apple\\\\blotch_88.jpg', '../informatie/apple_disease_classification/Train/Blotch_Apple\\\\blotch_89.jpg', '../informatie/apple_disease_classification/Train/Blotch_Apple\\\\blotch_9.jpg', '../informatie/apple_disease_classification/Train/Blotch_Apple\\\\blotch_90.jpg', '../informatie/apple_disease_classification/Train/Blotch_Apple\\\\blotch_91.jpg', '../informatie/apple_disease_classification/Train/Blotch_Apple\\\\blotch_92.jpg', '../informatie/apple_disease_classification/Train/Blotch_Apple\\\\blotch_93.jpg', '../informatie/apple_disease_classification/Train/Blotch_Apple\\\\blotch_94.jpg', '../informatie/apple_disease_classification/Train/Blotch_Apple\\\\blotch_95.jpg', '../informatie/apple_disease_classification/Train/Blotch_Apple\\\\blotch_96.jpg', '../informatie/apple_disease_classification/Train/Blotch_Apple\\\\blotch_97.jpg', '../informatie/apple_disease_classification/Train/Blotch_Apple\\\\blotch_98.jpg', '../informatie/apple_disease_classification/Train/Blotch_Apple\\\\blotch_99.jpg']\n",
      "['../informatie/apple_disease_classification/Train/Normal_Apple\\\\normal_1.jpg', '../informatie/apple_disease_classification/Train/Normal_Apple\\\\normal_10.jpg', '../informatie/apple_disease_classification/Train/Normal_Apple\\\\normal_11.jpg', '../informatie/apple_disease_classification/Train/Normal_Apple\\\\normal_12.jpg', '../informatie/apple_disease_classification/Train/Normal_Apple\\\\normal_13.jpg', '../informatie/apple_disease_classification/Train/Normal_Apple\\\\normal_14.jpg', '../informatie/apple_disease_classification/Train/Normal_Apple\\\\normal_15.jpg', '../informatie/apple_disease_classification/Train/Normal_Apple\\\\normal_16.jpg', '../informatie/apple_disease_classification/Train/Normal_Apple\\\\normal_17.jpg', '../informatie/apple_disease_classification/Train/Normal_Apple\\\\normal_18.jpg', '../informatie/apple_disease_classification/Train/Normal_Apple\\\\normal_19.jpg', '../informatie/apple_disease_classification/Train/Normal_Apple\\\\normal_2.jpg', '../informatie/apple_disease_classification/Train/Normal_Apple\\\\normal_20.jpg', '../informatie/apple_disease_classification/Train/Normal_Apple\\\\normal_21.jpg', '../informatie/apple_disease_classification/Train/Normal_Apple\\\\normal_22.jpg', '../informatie/apple_disease_classification/Train/Normal_Apple\\\\normal_23.jpg', '../informatie/apple_disease_classification/Train/Normal_Apple\\\\normal_24.jpg', '../informatie/apple_disease_classification/Train/Normal_Apple\\\\normal_25.jpg', '../informatie/apple_disease_classification/Train/Normal_Apple\\\\normal_26.jpg', '../informatie/apple_disease_classification/Train/Normal_Apple\\\\normal_27.jpg', '../informatie/apple_disease_classification/Train/Normal_Apple\\\\normal_28.jpg', '../informatie/apple_disease_classification/Train/Normal_Apple\\\\normal_29.jpg', '../informatie/apple_disease_classification/Train/Normal_Apple\\\\normal_3.jpg', '../informatie/apple_disease_classification/Train/Normal_Apple\\\\normal_30.jpg', '../informatie/apple_disease_classification/Train/Normal_Apple\\\\normal_31.jpg', '../informatie/apple_disease_classification/Train/Normal_Apple\\\\normal_32.jpg', '../informatie/apple_disease_classification/Train/Normal_Apple\\\\normal_33.jpg', '../informatie/apple_disease_classification/Train/Normal_Apple\\\\normal_34.jpg', '../informatie/apple_disease_classification/Train/Normal_Apple\\\\normal_35.jpg', '../informatie/apple_disease_classification/Train/Normal_Apple\\\\normal_36.jpg', '../informatie/apple_disease_classification/Train/Normal_Apple\\\\normal_37.jpg', '../informatie/apple_disease_classification/Train/Normal_Apple\\\\normal_38.jpg', '../informatie/apple_disease_classification/Train/Normal_Apple\\\\normal_39.jpg', '../informatie/apple_disease_classification/Train/Normal_Apple\\\\normal_4.jpg', '../informatie/apple_disease_classification/Train/Normal_Apple\\\\normal_40.jpg', '../informatie/apple_disease_classification/Train/Normal_Apple\\\\normal_41.jpg', '../informatie/apple_disease_classification/Train/Normal_Apple\\\\normal_42.jpg', '../informatie/apple_disease_classification/Train/Normal_Apple\\\\normal_43.jpg', '../informatie/apple_disease_classification/Train/Normal_Apple\\\\normal_44.jpg', '../informatie/apple_disease_classification/Train/Normal_Apple\\\\normal_45.jpg', '../informatie/apple_disease_classification/Train/Normal_Apple\\\\normal_46.jpg', '../informatie/apple_disease_classification/Train/Normal_Apple\\\\normal_47.jpg', '../informatie/apple_disease_classification/Train/Normal_Apple\\\\normal_48.jpg', '../informatie/apple_disease_classification/Train/Normal_Apple\\\\normal_49.jpg', '../informatie/apple_disease_classification/Train/Normal_Apple\\\\normal_5.jpg', '../informatie/apple_disease_classification/Train/Normal_Apple\\\\normal_50.jpg', '../informatie/apple_disease_classification/Train/Normal_Apple\\\\normal_51.jpg', '../informatie/apple_disease_classification/Train/Normal_Apple\\\\normal_52.jpg', '../informatie/apple_disease_classification/Train/Normal_Apple\\\\normal_53.jpg', '../informatie/apple_disease_classification/Train/Normal_Apple\\\\normal_54.jpg', '../informatie/apple_disease_classification/Train/Normal_Apple\\\\normal_55.jpg', '../informatie/apple_disease_classification/Train/Normal_Apple\\\\normal_56.jpg', '../informatie/apple_disease_classification/Train/Normal_Apple\\\\normal_57.jpg', '../informatie/apple_disease_classification/Train/Normal_Apple\\\\normal_58.jpg', '../informatie/apple_disease_classification/Train/Normal_Apple\\\\normal_59.jpg', '../informatie/apple_disease_classification/Train/Normal_Apple\\\\normal_6.jpg', '../informatie/apple_disease_classification/Train/Normal_Apple\\\\normal_60.jpg', '../informatie/apple_disease_classification/Train/Normal_Apple\\\\normal_61.jpg', '../informatie/apple_disease_classification/Train/Normal_Apple\\\\normal_62.jpg', '../informatie/apple_disease_classification/Train/Normal_Apple\\\\normal_63.jpg', '../informatie/apple_disease_classification/Train/Normal_Apple\\\\normal_7.jpg', '../informatie/apple_disease_classification/Train/Normal_Apple\\\\normal_8.jpg', '../informatie/apple_disease_classification/Train/Normal_Apple\\\\normal_9.jpg']\n",
      "['../informatie/apple_disease_classification/Train/Rot_Apple\\\\rot_1.jpg', '../informatie/apple_disease_classification/Train/Rot_Apple\\\\rot_10.jpg', '../informatie/apple_disease_classification/Train/Rot_Apple\\\\rot_100.jpg', '../informatie/apple_disease_classification/Train/Rot_Apple\\\\rot_101.jpg', '../informatie/apple_disease_classification/Train/Rot_Apple\\\\rot_102.jpg', '../informatie/apple_disease_classification/Train/Rot_Apple\\\\rot_103.jpg', '../informatie/apple_disease_classification/Train/Rot_Apple\\\\rot_104.jpg', '../informatie/apple_disease_classification/Train/Rot_Apple\\\\rot_105.jpg', '../informatie/apple_disease_classification/Train/Rot_Apple\\\\rot_106.jpg', '../informatie/apple_disease_classification/Train/Rot_Apple\\\\rot_107.jpg', '../informatie/apple_disease_classification/Train/Rot_Apple\\\\rot_108.jpg', '../informatie/apple_disease_classification/Train/Rot_Apple\\\\rot_109.jpg', '../informatie/apple_disease_classification/Train/Rot_Apple\\\\rot_11.jpg', '../informatie/apple_disease_classification/Train/Rot_Apple\\\\rot_110.jpg', '../informatie/apple_disease_classification/Train/Rot_Apple\\\\rot_111.jpg', '../informatie/apple_disease_classification/Train/Rot_Apple\\\\rot_112.jpg', '../informatie/apple_disease_classification/Train/Rot_Apple\\\\rot_113.jpg', '../informatie/apple_disease_classification/Train/Rot_Apple\\\\rot_12.jpg', '../informatie/apple_disease_classification/Train/Rot_Apple\\\\rot_13.jpg', '../informatie/apple_disease_classification/Train/Rot_Apple\\\\rot_14.jpg', '../informatie/apple_disease_classification/Train/Rot_Apple\\\\rot_15.jpg', '../informatie/apple_disease_classification/Train/Rot_Apple\\\\rot_16.jpg', '../informatie/apple_disease_classification/Train/Rot_Apple\\\\rot_17.jpg', '../informatie/apple_disease_classification/Train/Rot_Apple\\\\rot_18.jpg', '../informatie/apple_disease_classification/Train/Rot_Apple\\\\rot_19.jpg', '../informatie/apple_disease_classification/Train/Rot_Apple\\\\rot_2.jpg', '../informatie/apple_disease_classification/Train/Rot_Apple\\\\rot_20.jpg', '../informatie/apple_disease_classification/Train/Rot_Apple\\\\rot_21.jpg', '../informatie/apple_disease_classification/Train/Rot_Apple\\\\rot_22.jpg', '../informatie/apple_disease_classification/Train/Rot_Apple\\\\rot_23.jpg', '../informatie/apple_disease_classification/Train/Rot_Apple\\\\rot_24.jpg', '../informatie/apple_disease_classification/Train/Rot_Apple\\\\rot_25.jpg', '../informatie/apple_disease_classification/Train/Rot_Apple\\\\rot_26.jpg', '../informatie/apple_disease_classification/Train/Rot_Apple\\\\rot_27.jpg', '../informatie/apple_disease_classification/Train/Rot_Apple\\\\rot_28.jpg', '../informatie/apple_disease_classification/Train/Rot_Apple\\\\rot_29.jpg', '../informatie/apple_disease_classification/Train/Rot_Apple\\\\rot_3.jpg', '../informatie/apple_disease_classification/Train/Rot_Apple\\\\rot_30.jpg', '../informatie/apple_disease_classification/Train/Rot_Apple\\\\rot_31.jpg', '../informatie/apple_disease_classification/Train/Rot_Apple\\\\rot_32.jpg', '../informatie/apple_disease_classification/Train/Rot_Apple\\\\rot_33.jpg', '../informatie/apple_disease_classification/Train/Rot_Apple\\\\rot_34.jpg', '../informatie/apple_disease_classification/Train/Rot_Apple\\\\rot_35.jpg', '../informatie/apple_disease_classification/Train/Rot_Apple\\\\rot_36.jpg', '../informatie/apple_disease_classification/Train/Rot_Apple\\\\rot_37.jpg', '../informatie/apple_disease_classification/Train/Rot_Apple\\\\rot_38.jpg', '../informatie/apple_disease_classification/Train/Rot_Apple\\\\rot_39.jpg', '../informatie/apple_disease_classification/Train/Rot_Apple\\\\rot_4.jpg', '../informatie/apple_disease_classification/Train/Rot_Apple\\\\rot_40.jpg', '../informatie/apple_disease_classification/Train/Rot_Apple\\\\rot_41.jpg', '../informatie/apple_disease_classification/Train/Rot_Apple\\\\rot_42.jpg', '../informatie/apple_disease_classification/Train/Rot_Apple\\\\rot_43.jpg', '../informatie/apple_disease_classification/Train/Rot_Apple\\\\rot_44.jpg', '../informatie/apple_disease_classification/Train/Rot_Apple\\\\rot_45.jpg', '../informatie/apple_disease_classification/Train/Rot_Apple\\\\rot_46.jpg', '../informatie/apple_disease_classification/Train/Rot_Apple\\\\rot_47.jpg', '../informatie/apple_disease_classification/Train/Rot_Apple\\\\rot_48.jpg', '../informatie/apple_disease_classification/Train/Rot_Apple\\\\rot_49.jpg', '../informatie/apple_disease_classification/Train/Rot_Apple\\\\rot_5.jpg', '../informatie/apple_disease_classification/Train/Rot_Apple\\\\rot_50.jpg', '../informatie/apple_disease_classification/Train/Rot_Apple\\\\rot_51.jpg', '../informatie/apple_disease_classification/Train/Rot_Apple\\\\rot_52.jpg', '../informatie/apple_disease_classification/Train/Rot_Apple\\\\rot_53.jpg', '../informatie/apple_disease_classification/Train/Rot_Apple\\\\rot_54.jpg', '../informatie/apple_disease_classification/Train/Rot_Apple\\\\rot_55.jpg', '../informatie/apple_disease_classification/Train/Rot_Apple\\\\rot_56.jpg', '../informatie/apple_disease_classification/Train/Rot_Apple\\\\rot_57.jpg', '../informatie/apple_disease_classification/Train/Rot_Apple\\\\rot_58.jpg', '../informatie/apple_disease_classification/Train/Rot_Apple\\\\rot_59.jpg', '../informatie/apple_disease_classification/Train/Rot_Apple\\\\rot_6.jpg', '../informatie/apple_disease_classification/Train/Rot_Apple\\\\rot_60.jpg', '../informatie/apple_disease_classification/Train/Rot_Apple\\\\rot_61.jpg', '../informatie/apple_disease_classification/Train/Rot_Apple\\\\rot_62.jpg', '../informatie/apple_disease_classification/Train/Rot_Apple\\\\rot_63.jpg', '../informatie/apple_disease_classification/Train/Rot_Apple\\\\rot_64.jpg', '../informatie/apple_disease_classification/Train/Rot_Apple\\\\rot_65.jpg', '../informatie/apple_disease_classification/Train/Rot_Apple\\\\rot_66.jpg', '../informatie/apple_disease_classification/Train/Rot_Apple\\\\rot_67.jpg', '../informatie/apple_disease_classification/Train/Rot_Apple\\\\rot_68.jpg', '../informatie/apple_disease_classification/Train/Rot_Apple\\\\rot_69.jpg', '../informatie/apple_disease_classification/Train/Rot_Apple\\\\rot_7.jpg', '../informatie/apple_disease_classification/Train/Rot_Apple\\\\rot_70.jpg', '../informatie/apple_disease_classification/Train/Rot_Apple\\\\rot_71.jpg', '../informatie/apple_disease_classification/Train/Rot_Apple\\\\rot_72.jpg', '../informatie/apple_disease_classification/Train/Rot_Apple\\\\rot_73.jpg', '../informatie/apple_disease_classification/Train/Rot_Apple\\\\rot_74.jpg', '../informatie/apple_disease_classification/Train/Rot_Apple\\\\rot_75.jpg', '../informatie/apple_disease_classification/Train/Rot_Apple\\\\rot_76.jpg', '../informatie/apple_disease_classification/Train/Rot_Apple\\\\rot_77.jpg', '../informatie/apple_disease_classification/Train/Rot_Apple\\\\rot_78.jpg', '../informatie/apple_disease_classification/Train/Rot_Apple\\\\rot_79.jpg', '../informatie/apple_disease_classification/Train/Rot_Apple\\\\rot_8.jpg', '../informatie/apple_disease_classification/Train/Rot_Apple\\\\rot_80.jpg', '../informatie/apple_disease_classification/Train/Rot_Apple\\\\rot_81.jpg', '../informatie/apple_disease_classification/Train/Rot_Apple\\\\rot_82.jpg', '../informatie/apple_disease_classification/Train/Rot_Apple\\\\rot_83.jpg', '../informatie/apple_disease_classification/Train/Rot_Apple\\\\rot_84.jpg', '../informatie/apple_disease_classification/Train/Rot_Apple\\\\rot_85.jpg', '../informatie/apple_disease_classification/Train/Rot_Apple\\\\rot_86.jpg', '../informatie/apple_disease_classification/Train/Rot_Apple\\\\rot_87.jpg', '../informatie/apple_disease_classification/Train/Rot_Apple\\\\rot_88.jpg', '../informatie/apple_disease_classification/Train/Rot_Apple\\\\rot_89.jpg', '../informatie/apple_disease_classification/Train/Rot_Apple\\\\rot_9.jpg', '../informatie/apple_disease_classification/Train/Rot_Apple\\\\rot_90.jpg', '../informatie/apple_disease_classification/Train/Rot_Apple\\\\rot_91.jpg', '../informatie/apple_disease_classification/Train/Rot_Apple\\\\rot_92.jpg', '../informatie/apple_disease_classification/Train/Rot_Apple\\\\rot_93.jpg', '../informatie/apple_disease_classification/Train/Rot_Apple\\\\rot_94.jpg', '../informatie/apple_disease_classification/Train/Rot_Apple\\\\rot_95.jpg', '../informatie/apple_disease_classification/Train/Rot_Apple\\\\rot_96.jpg', '../informatie/apple_disease_classification/Train/Rot_Apple\\\\rot_97.jpg', '../informatie/apple_disease_classification/Train/Rot_Apple\\\\rot_98.jpg', '../informatie/apple_disease_classification/Train/Rot_Apple\\\\rot_99.jpg']\n",
      "['../informatie/apple_disease_classification/Train/Scab_Apple\\\\scab_1.jpg', '../informatie/apple_disease_classification/Train/Scab_Apple\\\\scab_10.jpg', '../informatie/apple_disease_classification/Train/Scab_Apple\\\\scab_11.jpg', '../informatie/apple_disease_classification/Train/Scab_Apple\\\\scab_12.jpg', '../informatie/apple_disease_classification/Train/Scab_Apple\\\\scab_13.jpg', '../informatie/apple_disease_classification/Train/Scab_Apple\\\\scab_14.jpg', '../informatie/apple_disease_classification/Train/Scab_Apple\\\\scab_15.jpg', '../informatie/apple_disease_classification/Train/Scab_Apple\\\\scab_16.jpg', '../informatie/apple_disease_classification/Train/Scab_Apple\\\\scab_17.jpg', '../informatie/apple_disease_classification/Train/Scab_Apple\\\\scab_18.jpg', '../informatie/apple_disease_classification/Train/Scab_Apple\\\\scab_19.jpg', '../informatie/apple_disease_classification/Train/Scab_Apple\\\\scab_2.jpg', '../informatie/apple_disease_classification/Train/Scab_Apple\\\\scab_20.jpg', '../informatie/apple_disease_classification/Train/Scab_Apple\\\\scab_21.jpg', '../informatie/apple_disease_classification/Train/Scab_Apple\\\\scab_22.jpg', '../informatie/apple_disease_classification/Train/Scab_Apple\\\\scab_23.jpg', '../informatie/apple_disease_classification/Train/Scab_Apple\\\\scab_24.jpg', '../informatie/apple_disease_classification/Train/Scab_Apple\\\\scab_25.jpg', '../informatie/apple_disease_classification/Train/Scab_Apple\\\\scab_26.jpg', '../informatie/apple_disease_classification/Train/Scab_Apple\\\\scab_27.jpg', '../informatie/apple_disease_classification/Train/Scab_Apple\\\\scab_28.jpg', '../informatie/apple_disease_classification/Train/Scab_Apple\\\\scab_29.jpg', '../informatie/apple_disease_classification/Train/Scab_Apple\\\\scab_3.jpg', '../informatie/apple_disease_classification/Train/Scab_Apple\\\\scab_30.jpg', '../informatie/apple_disease_classification/Train/Scab_Apple\\\\scab_31.jpg', '../informatie/apple_disease_classification/Train/Scab_Apple\\\\scab_32.jpg', '../informatie/apple_disease_classification/Train/Scab_Apple\\\\scab_33.jpg', '../informatie/apple_disease_classification/Train/Scab_Apple\\\\scab_34.jpg', '../informatie/apple_disease_classification/Train/Scab_Apple\\\\scab_35.jpg', '../informatie/apple_disease_classification/Train/Scab_Apple\\\\scab_36.jpg', '../informatie/apple_disease_classification/Train/Scab_Apple\\\\scab_37.jpg', '../informatie/apple_disease_classification/Train/Scab_Apple\\\\scab_38.jpg', '../informatie/apple_disease_classification/Train/Scab_Apple\\\\scab_39.jpg', '../informatie/apple_disease_classification/Train/Scab_Apple\\\\scab_4.jpg', '../informatie/apple_disease_classification/Train/Scab_Apple\\\\scab_40.jpg', '../informatie/apple_disease_classification/Train/Scab_Apple\\\\scab_41.jpg', '../informatie/apple_disease_classification/Train/Scab_Apple\\\\scab_42.jpg', '../informatie/apple_disease_classification/Train/Scab_Apple\\\\scab_43.jpg', '../informatie/apple_disease_classification/Train/Scab_Apple\\\\scab_44.jpg', '../informatie/apple_disease_classification/Train/Scab_Apple\\\\scab_45.jpg', '../informatie/apple_disease_classification/Train/Scab_Apple\\\\scab_46.jpg', '../informatie/apple_disease_classification/Train/Scab_Apple\\\\scab_47.jpg', '../informatie/apple_disease_classification/Train/Scab_Apple\\\\scab_48.jpg', '../informatie/apple_disease_classification/Train/Scab_Apple\\\\scab_49.jpg', '../informatie/apple_disease_classification/Train/Scab_Apple\\\\scab_5.jpg', '../informatie/apple_disease_classification/Train/Scab_Apple\\\\scab_50.jpg', '../informatie/apple_disease_classification/Train/Scab_Apple\\\\scab_51.jpg', '../informatie/apple_disease_classification/Train/Scab_Apple\\\\scab_52.jpg', '../informatie/apple_disease_classification/Train/Scab_Apple\\\\scab_53.jpg', '../informatie/apple_disease_classification/Train/Scab_Apple\\\\scab_54.jpg', '../informatie/apple_disease_classification/Train/Scab_Apple\\\\scab_55.jpg', '../informatie/apple_disease_classification/Train/Scab_Apple\\\\scab_56.jpg', '../informatie/apple_disease_classification/Train/Scab_Apple\\\\scab_57.jpg', '../informatie/apple_disease_classification/Train/Scab_Apple\\\\scab_58.jpg', '../informatie/apple_disease_classification/Train/Scab_Apple\\\\scab_59.jpg', '../informatie/apple_disease_classification/Train/Scab_Apple\\\\scab_6.jpg', '../informatie/apple_disease_classification/Train/Scab_Apple\\\\scab_60.jpg', '../informatie/apple_disease_classification/Train/Scab_Apple\\\\scab_61.jpg', '../informatie/apple_disease_classification/Train/Scab_Apple\\\\scab_62.jpg', '../informatie/apple_disease_classification/Train/Scab_Apple\\\\scab_63.jpg', '../informatie/apple_disease_classification/Train/Scab_Apple\\\\scab_64.jpg', '../informatie/apple_disease_classification/Train/Scab_Apple\\\\scab_65.jpg', '../informatie/apple_disease_classification/Train/Scab_Apple\\\\scab_66.jpg', '../informatie/apple_disease_classification/Train/Scab_Apple\\\\scab_67.jpg', '../informatie/apple_disease_classification/Train/Scab_Apple\\\\scab_68.jpg', '../informatie/apple_disease_classification/Train/Scab_Apple\\\\scab_69.jpg', '../informatie/apple_disease_classification/Train/Scab_Apple\\\\scab_7.jpg', '../informatie/apple_disease_classification/Train/Scab_Apple\\\\scab_70.jpg', '../informatie/apple_disease_classification/Train/Scab_Apple\\\\scab_71.jpg', '../informatie/apple_disease_classification/Train/Scab_Apple\\\\scab_72.jpg', '../informatie/apple_disease_classification/Train/Scab_Apple\\\\scab_73.jpg', '../informatie/apple_disease_classification/Train/Scab_Apple\\\\scab_74.jpg', '../informatie/apple_disease_classification/Train/Scab_Apple\\\\scab_75.jpg', '../informatie/apple_disease_classification/Train/Scab_Apple\\\\scab_76.jpg', '../informatie/apple_disease_classification/Train/Scab_Apple\\\\scab_77.jpg', '../informatie/apple_disease_classification/Train/Scab_Apple\\\\scab_78.jpg', '../informatie/apple_disease_classification/Train/Scab_Apple\\\\scab_8.jpg', '../informatie/apple_disease_classification/Train/Scab_Apple\\\\scab_9.jpg']\n"
     ]
    }
   ],
   "source": [
    "# Doublechecking.\n",
    "print(blotch_files)\n",
    "print(normal_files)\n",
    "print(rot_files)\n",
    "print(scab_files)"
   ]
  },
  {
   "cell_type": "code",
   "execution_count": 31,
   "metadata": {},
   "outputs": [
    {
     "name": "stdout",
     "output_type": "stream",
     "text": [
      "Blotch images: 112\n",
      "Normal images: 63\n",
      "Rot images: 113\n",
      "Scab images: 78\n"
     ]
    }
   ],
   "source": [
    "# Gather data\n",
    "blotch_data = list()\n",
    "normal_data = list()\n",
    "rot_data = list()\n",
    "scab_data = list()\n",
    "\n",
    "for b in blotch_files:\n",
    "    blotch_data.append(torchvision.io.read_image(b, ImageReadMode.UNCHANGED))\n",
    "for n in normal_files:\n",
    "    normal_data.append(torchvision.io.read_image(n, ImageReadMode.UNCHANGED))\n",
    "for r in rot_files:\n",
    "    rot_data.append(torchvision.io.read_image(r, ImageReadMode.UNCHANGED))\n",
    "for s in scab_files:\n",
    "    scab_data.append(torchvision.io.read_image(s, ImageReadMode.UNCHANGED))\n",
    "\n",
    "print(F\"Blotch images: {len(blotch_data)}\")\n",
    "print(f\"Normal images: {len(normal_data)}\")\n",
    "print(f\"Rot images: {len(rot_data)}\")\n",
    "print(f\"Scab images: {len(scab_data)}\")"
   ]
  },
  {
   "cell_type": "code",
   "execution_count": null,
   "metadata": {},
   "outputs": [],
   "source": []
  }
 ],
 "metadata": {
  "kernelspec": {
   "display_name": "Python 3",
   "language": "python",
   "name": "python3"
  },
  "language_info": {
   "codemirror_mode": {
    "name": "ipython",
    "version": 3
   },
   "file_extension": ".py",
   "mimetype": "text/x-python",
   "name": "python",
   "nbconvert_exporter": "python",
   "pygments_lexer": "ipython3",
   "version": "3.10.11"
  },
  "orig_nbformat": 4
 },
 "nbformat": 4,
 "nbformat_minor": 2
}
