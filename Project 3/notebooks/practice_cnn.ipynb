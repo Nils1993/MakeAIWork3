{
 "cells": [
  {
   "cell_type": "code",
   "execution_count": 1,
   "metadata": {},
   "outputs": [],
   "source": [
    "import torchvision.transforms as T\n",
    "from torch.utils.data import Subset, Dataset, DataLoader, random_split\n",
    "from torch import nn\n",
    "import torch.nn.functional\n",
    "from torchvision.datasets import ImageFolder\n",
    "from torchvision.io import read_image, ImageReadMode\n",
    "import torch\n",
    "import pickle as pkl\n",
    "from sklearn.metrics import confusion_matrix\n",
    "import seaborn as sn\n",
    "import pandas as pd\n",
    "import numpy as np\n",
    "import matplotlib.pyplot as plt\n",
    "\n"
   ]
  },
  {
   "cell_type": "code",
   "execution_count": 2,
   "metadata": {},
   "outputs": [
    {
     "name": "stdout",
     "output_type": "stream",
     "text": [
      "torch.Size([3, 128, 128])\n",
      "tensor([[[0.9059, 0.9059, 0.9059,  ..., 0.9294, 0.9294, 0.9294],\n",
      "         [0.9059, 0.9059, 0.9059,  ..., 0.9294, 0.9294, 0.9294],\n",
      "         [0.9059, 0.9059, 0.9059,  ..., 0.9294, 0.9294, 0.9294],\n",
      "         ...,\n",
      "         [0.9490, 0.9490, 0.9490,  ..., 0.9725, 0.9725, 0.9725],\n",
      "         [0.9529, 0.9529, 0.9529,  ..., 0.9725, 0.9725, 0.9725],\n",
      "         [0.9529, 0.9529, 0.9529,  ..., 0.9725, 0.9725, 0.9725]],\n",
      "\n",
      "        [[0.9216, 0.9216, 0.9216,  ..., 0.9294, 0.9294, 0.9294],\n",
      "         [0.9216, 0.9216, 0.9216,  ..., 0.9294, 0.9294, 0.9294],\n",
      "         [0.9216, 0.9216, 0.9216,  ..., 0.9294, 0.9294, 0.9294],\n",
      "         ...,\n",
      "         [0.9412, 0.9412, 0.9412,  ..., 0.9529, 0.9529, 0.9529],\n",
      "         [0.9451, 0.9451, 0.9451,  ..., 0.9529, 0.9529, 0.9529],\n",
      "         [0.9451, 0.9451, 0.9451,  ..., 0.9529, 0.9529, 0.9529]],\n",
      "\n",
      "        [[0.9569, 0.9569, 0.9569,  ..., 0.9686, 0.9686, 0.9686],\n",
      "         [0.9569, 0.9569, 0.9569,  ..., 0.9686, 0.9686, 0.9686],\n",
      "         [0.9569, 0.9569, 0.9569,  ..., 0.9686, 0.9686, 0.9686],\n",
      "         ...,\n",
      "         [0.9529, 0.9529, 0.9529,  ..., 0.9765, 0.9765, 0.9765],\n",
      "         [0.9569, 0.9569, 0.9569,  ..., 0.9765, 0.9765, 0.9765],\n",
      "         [0.9569, 0.9569, 0.9569,  ..., 0.9765, 0.9765, 0.9765]]])\n"
     ]
    }
   ],
   "source": [
    "path = \"../informatie/apple_disease_classification/images/Train/Dataset/normal_apples/good_apple0.jpg\"\n",
    "img = read_image(path, ImageReadMode.UNCHANGED)/255\n",
    "\n",
    "print(img.shape)\n",
    "print(img)"
   ]
  },
  {
   "cell_type": "code",
   "execution_count": 3,
   "metadata": {},
   "outputs": [],
   "source": [
    "\n",
    "dataset_path = \"../informatie/apple_disease_classification/images/Train/Dataset/\""
   ]
  },
  {
   "cell_type": "code",
   "execution_count": 4,
   "metadata": {},
   "outputs": [],
   "source": [
    "class DatasetAppels(Dataset):\n",
    "    def __init__(self, img_folder_path, transform):\n",
    "\n",
    "        image_folder = ImageFolder(img_folder_path, transform=transform)\n",
    "        print(image_folder.classes)\n",
    "        self.images = [image[0] for image in image_folder]\n",
    "        self.labels = image_folder.targets\n",
    "        self.class_dict = image_folder.class_to_idx\n",
    "\n",
    "    def labeler(self, label, len_classes):\n",
    "        result = [0] * len_classes\n",
    "        result[label] = 1\n",
    "        return result\n",
    "\n",
    "    def __len__(self):\n",
    "        return len(self.images)\n",
    "    \n",
    "    def __getitem__(self, idx):\n",
    "    \n",
    "        return [self.images[idx], self.labels[idx]]\n",
    "    \n"
   ]
  },
  {
   "cell_type": "code",
   "execution_count": 5,
   "metadata": {},
   "outputs": [
    {
     "name": "stdout",
     "output_type": "stream",
     "text": [
      "['blotch_apples', 'normal_apples', 'rot_apples', 'scab_apples']\n"
     ]
    },
    {
     "data": {
      "text/plain": [
       "[tensor([[[0.6745, 0.6863, 0.7059,  ..., 0.6824, 0.6902, 0.6980],\n",
       "          [0.6784, 0.6902, 0.7098,  ..., 0.6902, 0.6902, 0.6941],\n",
       "          [0.6863, 0.7020, 0.7137,  ..., 0.7020, 0.6941, 0.6902],\n",
       "          ...,\n",
       "          [0.6235, 0.6275, 0.6314,  ..., 0.0275, 0.0235, 0.0863],\n",
       "          [0.6275, 0.6353, 0.6431,  ..., 0.0353, 0.0039, 0.0039],\n",
       "          [0.6275, 0.6353, 0.6431,  ..., 0.1059, 0.0392, 0.1137]],\n",
       " \n",
       "         [[0.5490, 0.5608, 0.5804,  ..., 0.5725, 0.5804, 0.5882],\n",
       "          [0.5529, 0.5647, 0.5843,  ..., 0.5804, 0.5804, 0.5843],\n",
       "          [0.5608, 0.5765, 0.5882,  ..., 0.5922, 0.5843, 0.5804],\n",
       "          ...,\n",
       "          [0.4863, 0.4902, 0.4863,  ..., 0.0118, 0.0000, 0.0588],\n",
       "          [0.4902, 0.4980, 0.4980,  ..., 0.0314, 0.0000, 0.0000],\n",
       "          [0.4902, 0.4980, 0.4980,  ..., 0.1098, 0.0314, 0.1020]],\n",
       " \n",
       "         [[0.4510, 0.4627, 0.4824,  ..., 0.4784, 0.4863, 0.4941],\n",
       "          [0.4549, 0.4667, 0.4863,  ..., 0.4863, 0.4863, 0.4902],\n",
       "          [0.4627, 0.4784, 0.4902,  ..., 0.4980, 0.4902, 0.4863],\n",
       "          ...,\n",
       "          [0.3686, 0.3725, 0.3725,  ..., 0.0157, 0.0235, 0.0902],\n",
       "          [0.3725, 0.3804, 0.3843,  ..., 0.0510, 0.0353, 0.0431],\n",
       "          [0.3725, 0.3804, 0.3843,  ..., 0.1294, 0.0863, 0.1686]]]),\n",
       " 0]"
      ]
     },
     "execution_count": 5,
     "metadata": {},
     "output_type": "execute_result"
    }
   ],
   "source": [
    "dataset = DatasetAppels(dataset_path, T.ToTensor())\n",
    "\n",
    "next(iter(dataset))\n"
   ]
  },
  {
   "cell_type": "code",
   "execution_count": 6,
   "metadata": {},
   "outputs": [
    {
     "name": "stderr",
     "output_type": "stream",
     "text": [
      "C:\\Users\\nilsm\\AppData\\Local\\Packages\\PythonSoftwareFoundation.Python.3.10_qbz5n2kfra8p0\\LocalCache\\local-packages\\Python310\\site-packages\\torchvision\\transforms\\functional.py:1603: UserWarning: The default value of the antialias parameter of all the resizing transforms (Resize(), RandomResizedCrop(), etc.) will change from None to True in v0.17, in order to be consistent across the PIL and Tensor backends. To suppress this warning, directly pass antialias=True (recommended, future default), antialias=None (current default, which means False for Tensors and True for PIL), or antialias=False (only works on Tensors - PIL will still use antialiasing). This also applies if you are using the inference transforms from the models weights: update the call to weights.transforms(antialias=True).\n",
      "  warnings.warn(\n"
     ]
    },
    {
     "name": "stdout",
     "output_type": "stream",
     "text": [
      "torch.Size([3, 64, 64])\n"
     ]
    }
   ],
   "source": [
    "resize = T.Resize((64,64))\n",
    "\n",
    "for i in range(len(dataset.images)):\n",
    "    dataset.images[i] = resize(dataset.images[i])\n",
    "\n",
    "print(dataset.images[0].shape)"
   ]
  },
  {
   "cell_type": "code",
   "execution_count": 7,
   "metadata": {},
   "outputs": [
    {
     "name": "stdout",
     "output_type": "stream",
     "text": [
      "[0, 0, 0, 0, 0, 0, 0, 0, 0, 0, 0, 0, 0, 0, 0, 0, 0, 0, 0, 0, 0, 0, 0, 0, 0, 0, 0, 0, 0, 0, 0, 0, 0, 0, 0, 0, 0, 0, 0, 0, 0, 0, 0, 0, 0, 0, 0, 0, 0, 0, 0, 0, 0, 0, 0, 0, 0, 0, 0, 0, 0, 0, 0, 0, 0, 0, 0, 0, 0, 0, 0, 0, 0, 0, 0, 0, 0, 0, 0, 0, 0, 0, 0, 0, 0, 0, 0, 0, 0, 0, 0, 0, 0, 0, 0, 0, 0, 0, 0, 0, 0, 0, 0, 0, 0, 0, 0, 0, 0, 0, 0, 0, 0, 0, 0, 0, 0, 0, 0, 0, 0, 0, 0, 0, 0, 0, 0, 0, 0, 0, 0, 0, 0, 0, 0, 0, 0, 0, 0, 0, 0, 0, 0, 0, 0, 0, 0, 0, 0, 0, 0, 0, 0, 0, 0, 0, 0, 0, 0, 0, 0, 0, 0, 0, 0, 0, 0, 0, 0, 0, 0, 0, 0, 0, 0, 0, 0, 0, 0, 0, 0, 0, 0, 0, 0, 0, 0, 0, 0, 0, 0, 0, 0, 0, 0, 0, 0, 0, 0, 0, 0, 0, 0, 0, 0, 0, 0, 0, 0, 0, 0, 0, 0, 0, 0, 0, 0, 0, 0, 0, 0, 0, 0, 0, 0, 0, 0, 0, 0, 0, 0, 0, 0, 0, 0, 0, 0, 0, 0, 0, 0, 0, 0, 0, 0, 0, 0, 0, 0, 0, 0, 0, 0, 0, 0, 0, 0, 0, 0, 0, 0, 0, 0, 0, 0, 0, 0, 0, 0, 0, 0, 0, 0, 0, 0, 0, 0, 0, 0, 0, 0, 0, 0, 0, 0, 0, 0, 0, 0, 0, 0, 0, 0, 0, 0, 0, 0, 0, 0, 0, 0, 0, 0, 0, 0, 0, 0, 0, 0, 0, 0, 0, 0, 0, 0, 0, 0, 0, 0, 0, 0, 0, 0, 0, 0, 0, 0, 0, 0, 0, 0, 0, 0, 0, 0, 0, 0, 0, 0, 0, 0, 0, 0, 0, 0, 0, 0, 0, 0, 0, 0, 0, 0, 0, 0, 0, 0, 0, 0, 0, 0, 0, 0, 0, 0, 0, 0, 0, 0, 0, 0, 0, 0, 0, 0, 0, 0, 0, 0, 0, 0, 0, 0, 0, 0, 0, 0, 0, 0, 0, 0, 0, 0, 0, 0, 0, 0, 0, 0, 0, 0, 0, 0, 0, 0, 0, 0, 0, 0, 0, 0, 0, 0, 0, 0, 0, 0, 0, 0, 0, 0, 0, 0, 0, 0, 0, 0, 0, 0, 0, 0, 0, 0, 0, 0, 0, 0, 0, 0, 0, 0, 0, 0, 0, 0, 0, 0, 0, 0, 0, 0, 0, 0, 0, 0, 0, 0, 0, 0, 0, 0, 0, 0, 0, 0, 0, 0, 0, 0, 0, 0, 0, 0, 0, 0, 0, 0, 0, 0, 0, 0, 0, 0, 0, 0, 0, 0, 0, 0, 0, 0, 0, 0, 0, 0, 0, 0, 0, 0, 0, 0, 0, 0, 0, 0, 0, 0, 0, 0, 0, 0, 0, 0, 0, 0, 0, 0, 0, 0, 0, 0, 0, 0, 0, 0, 0, 0, 0, 0, 0, 0, 0, 0, 0, 0, 0, 0, 0, 0, 0, 0, 0, 0, 0, 0, 0, 0, 0, 0, 0, 0, 0, 0, 0, 0, 0, 0, 0, 0, 0, 0, 0, 0, 0, 0, 0, 0, 0, 0, 0, 0, 0, 0, 0, 0, 0, 0, 0, 0, 0, 0, 0, 0, 0, 0, 0, 0, 0, 0, 0, 0, 0, 0, 0, 0, 0, 0, 0, 0, 0, 0, 0, 0, 0, 0, 0, 0, 0, 0, 0, 0, 0, 0, 0, 0, 0, 0, 0, 0, 0, 0, 0, 0, 0, 0, 0, 0, 0, 0, 0, 0, 0, 0, 0, 0, 0, 0, 0, 0, 0, 0, 0, 0, 0, 0, 0, 0, 0, 0, 0, 0, 0, 0, 0, 0, 0, 0, 0, 0, 0, 0, 0, 0, 0, 0, 0, 0, 0, 0, 0, 0, 0, 0, 0, 0, 0, 0, 0, 0, 0, 0, 0, 0, 0, 0, 0, 0, 0, 0, 0, 0, 0, 0, 0, 0, 0, 0, 0, 0, 0, 0, 0, 0, 0, 0, 0, 0, 0, 0, 0, 0, 0, 0, 0, 0, 0, 0, 0, 0, 0, 0, 0, 0, 0, 0, 0, 0, 0, 0, 0, 0, 0, 0, 0, 0, 0, 0, 0, 0, 0, 0, 0, 0, 0, 0, 0, 0, 0, 0, 0, 0, 0, 0, 0, 0, 0, 0, 0, 0, 0, 0, 0, 0, 0, 0, 0, 0, 0, 0, 0, 0, 0, 0, 0, 0, 0, 0, 0, 0, 0, 0, 0, 0, 0, 0, 0, 0, 0, 0, 0, 0, 0, 0, 0, 0, 0, 0, 0, 0, 0, 0, 0, 0, 0, 0, 0, 0, 0, 0, 0, 0, 0, 0, 0, 0, 0, 0, 0, 0, 0, 0, 0, 0, 0, 0, 0, 0, 0, 0, 0, 0, 0, 0, 0, 0, 0, 0, 0, 0, 0, 0, 0, 0, 0, 0, 0, 0, 0, 0, 0, 0, 0, 0, 0, 0, 0, 0, 0, 0, 0, 0, 0, 0, 0, 0, 0, 0, 0, 0, 0, 0, 0, 0, 0, 0, 0, 0, 0, 0, 0, 0, 0, 0, 0, 0, 0, 0, 0, 0, 0, 0, 0, 0, 0, 0, 0, 0, 0, 0, 0, 0, 0, 0, 0, 0, 0, 0, 0, 0, 0, 0, 0, 0, 0, 0, 0, 0, 0, 1, 1, 1, 1, 1, 1, 1, 1, 1, 1, 1, 1, 1, 1, 1, 1, 1, 1, 1, 1, 1, 1, 1, 1, 1, 1, 1, 1, 1, 1, 1, 1, 1, 1, 1, 1, 1, 1, 1, 1, 1, 1, 1, 1, 1, 1, 1, 1, 1, 1, 1, 1, 1, 1, 1, 1, 1, 1, 1, 1, 1, 1, 1, 1, 1, 1, 1, 1, 1, 1, 1, 1, 1, 1, 1, 1, 1, 1, 1, 1, 1, 1, 1, 1, 1, 1, 1, 1, 1, 1, 1, 1, 1, 1, 1, 1, 1, 1, 1, 1, 1, 1, 1, 1, 1, 1, 1, 1, 1, 1, 1, 1, 1, 1, 1, 1, 1, 1, 1, 1, 1, 1, 1, 1, 1, 1, 1, 1, 1, 1, 1, 1, 1, 1, 1, 1, 1, 1, 1, 1, 1, 1, 1, 1, 1, 1, 1, 1, 1, 1, 1, 1, 1, 1, 1, 1, 1, 1, 1, 1, 1, 1, 1, 1, 1, 1, 1, 1, 1, 1, 1, 1, 1, 1, 1, 1, 1, 1, 1, 1, 1, 1, 1, 1, 1, 1, 1, 1, 1, 1, 1, 1, 1, 1, 1, 1, 1, 1, 1, 1, 1, 1, 1, 1, 1, 1, 1, 1, 1, 1, 1, 1, 1, 1, 1, 1, 1, 1, 1, 1, 1, 1, 1, 1, 1, 1, 1, 1, 1, 1, 1, 1, 1, 1, 1, 1, 1, 1, 1, 1, 1, 1, 1, 1, 1, 1, 1, 1, 1, 1, 1, 1, 1, 1, 1, 1, 1, 1, 1, 1, 1, 1, 1, 1, 1, 1, 1, 1, 1, 1, 1, 1, 1, 1, 1, 1, 1, 1, 1, 1, 1, 1, 1, 1, 1, 1, 1, 1, 1, 1, 1, 1, 1, 1, 1, 1, 1, 1, 1, 1, 1, 1, 1, 1, 1, 1, 1, 1, 1, 1, 1, 1, 1, 1, 1, 1, 1, 1, 1, 1, 1, 1, 1, 1, 1, 1, 1, 1, 1, 1, 1, 1, 1, 1, 1, 1, 1, 1, 1, 1, 1, 1, 1, 1, 1, 1, 1, 1, 1, 1, 1, 1, 2, 2, 2, 2, 2, 2, 2, 2, 2, 2, 2, 2, 2, 2, 2, 2, 2, 2, 2, 2, 2, 2, 2, 2, 2, 2, 2, 2, 2, 2, 2, 2, 2, 2, 2, 2, 2, 2, 2, 2, 2, 2, 2, 2, 2, 2, 2, 2, 2, 2, 2, 2, 2, 2, 2, 2, 2, 2, 2, 2, 2, 2, 2, 2, 2, 2, 2, 2, 2, 2, 2, 2, 2, 2, 2, 2, 2, 2, 2, 2, 2, 2, 2, 2, 2, 2, 2, 2, 2, 2, 2, 2, 2, 2, 2, 2, 2, 2, 2, 2, 2, 2, 2, 2, 2, 2, 2, 2, 2, 2, 2, 2, 2, 2, 2, 2, 2, 2, 2, 2, 2, 2, 2, 2, 2, 2, 2, 2, 2, 2, 2, 2, 2, 2, 2, 2, 2, 2, 2, 2, 2, 2, 2, 2, 2, 2, 2, 2, 2, 2, 2, 2, 2, 2, 2, 2, 2, 2, 2, 2, 2, 2, 2, 2, 2, 2, 2, 2, 2, 2, 2, 2, 2, 2, 2, 2, 2, 2, 2, 2, 2, 2, 2, 2, 2, 2, 2, 2, 2, 2, 2, 2, 2, 2, 2, 2, 2, 2, 2, 2, 2, 2, 2, 2, 2, 2, 2, 2, 2, 2, 2, 2, 2, 2, 2, 2, 2, 2, 2, 2, 2, 2, 2, 2, 2, 2, 2, 2, 2, 2, 2, 2, 2, 2, 2, 2, 2, 2, 2, 2, 2, 2, 2, 2, 2, 2, 2, 2, 2, 2, 2, 2, 2, 2, 2, 2, 2, 2, 2, 2, 2, 2, 2, 2, 2, 2, 2, 2, 2, 2, 2, 2, 2, 2, 2, 2, 2, 2, 2, 2, 2, 2, 2, 2, 2, 2, 2, 2, 2, 2, 2, 2, 2, 2, 2, 2, 2, 2, 2, 2, 2, 2, 2, 2, 2, 2, 2, 2, 2, 2, 2, 2, 2, 2, 2, 2, 2, 2, 2, 2, 2, 2, 2, 2, 2, 2, 2, 2, 2, 2, 2, 2, 2, 2, 2, 2, 2, 2, 2, 2, 2, 2, 2, 2, 2, 2, 2, 2, 2, 2, 2, 2, 2, 2, 2, 2, 2, 2, 2, 2, 2, 2, 2, 2, 2, 2, 2, 2, 2, 2, 2, 2, 2, 2, 2, 2, 2, 2, 2, 2, 2, 2, 2, 2, 2, 2, 2, 2, 2, 2, 2, 2, 2, 2, 2, 2, 2, 2, 2, 2, 2, 2, 2, 2, 2, 2, 2, 2, 2, 2, 2, 2, 2, 2, 2, 2, 2, 2, 2, 2, 2, 2, 2, 2, 2, 2, 2, 2, 2, 2, 2, 2, 2, 2, 2, 2, 2, 2, 2, 2, 2, 2, 2, 2, 2, 2, 2, 2, 2, 2, 2, 2, 2, 2, 2, 2, 2, 2, 2, 2, 2, 2, 2, 2, 2, 2, 2, 2, 2, 2, 2, 2, 2, 2, 2, 2, 2, 2, 2, 2, 2, 2, 2, 2, 2, 2, 2, 2, 2, 2, 2, 2, 2, 2, 2, 2, 2, 2, 2, 2, 2, 2, 2, 2, 2, 2, 2, 2, 2, 2, 2, 2, 2, 2, 2, 2, 2, 2, 2, 2, 2, 2, 2, 2, 2, 2, 2, 2, 2, 2, 2, 2, 2, 2, 2, 2, 2, 2, 2, 2, 2, 2, 2, 2, 2, 2, 2, 2, 2, 2, 2, 2, 2, 2, 2, 2, 2, 2, 2, 2, 2, 2, 2, 2, 2, 2, 2, 2, 2, 2, 2, 2, 2, 2, 2, 2, 2, 2, 2, 2, 2, 2, 2, 2, 2, 2, 2, 2, 2, 2, 2, 2, 2, 2, 2, 2, 2, 2, 2, 2, 2, 2, 2, 2, 2, 2, 2, 2, 2, 2, 2, 2, 2, 2, 2, 2, 2, 2, 2, 2, 2, 2, 2, 2, 2, 2, 2, 2, 2, 2, 2, 2, 2, 2, 2, 2, 2, 2, 2, 2, 2, 2, 2, 2, 2, 2, 2, 2, 2, 2, 2, 2, 2, 2, 2, 2, 2, 2, 2, 2, 2, 2, 2, 2, 2, 2, 2, 2, 2, 2, 2, 2, 2, 2, 2, 2, 2, 2, 2, 2, 2, 2, 2, 2, 2, 2, 2, 2, 2, 2, 2, 2, 2, 2, 2, 2, 2, 2, 2, 2, 2, 2, 2, 2, 2, 2, 2, 2, 2, 2, 2, 2, 2, 2, 2, 2, 2, 2, 2, 2, 2, 2, 2, 2, 2, 2, 2, 2, 2, 2, 2, 2, 2, 2, 2, 2, 2, 2, 2, 2, 2, 2, 2, 2, 2, 2, 2, 2, 2, 2, 2, 2, 2, 2, 2, 2, 2, 2, 2, 2, 2, 2, 2, 2, 2, 2, 2, 2, 2, 2, 2, 2, 2, 2, 2, 2, 2, 2, 2, 2, 2, 2, 2, 2, 2, 2, 2, 2, 2, 2, 2, 2, 2, 2, 2, 2, 2, 2, 2, 2, 2, 2, 2, 2, 2, 2, 2, 2, 2, 2, 2, 2, 2, 2, 2, 2, 2, 2, 2, 2, 2, 2, 2, 2, 2, 2, 2, 2, 2, 2, 2, 2, 2, 2, 2, 2, 2, 2, 2, 2, 2, 2, 2, 2, 2, 2, 2, 2, 2, 2, 2, 2, 2, 2, 2, 2, 2, 2, 2, 2, 2, 2, 2, 2, 2, 2, 2, 2, 2, 2, 2, 2, 2, 2, 2, 2, 2, 2, 2, 2, 2, 2, 2, 2, 2, 2, 2, 2, 2, 2, 2, 2, 2, 2, 2, 2, 2, 2, 2, 2, 2, 2, 2, 2, 2, 2, 2, 2, 2, 2, 2, 2, 2, 2, 2, 2, 2, 2, 2, 2, 2, 2, 2, 2, 2, 2, 2, 2, 2, 2, 2, 2, 2, 2, 2, 2, 2, 2, 2, 2, 2, 2, 2, 2, 2, 2, 2, 2, 2, 2, 2, 2, 2, 2, 2, 2, 2, 2, 2, 2, 2, 2, 2, 2, 2, 2, 2, 2, 2, 2, 2, 2, 2, 2, 2, 2, 2, 2, 2, 2, 2, 2, 2, 2, 2, 2, 2, 2, 2, 2, 2, 2, 2, 2, 2, 2, 2, 2, 2, 2, 2, 2, 2, 2, 2, 2, 2, 2, 2, 2, 2, 2, 2, 2, 2, 2, 2, 3, 3, 3, 3, 3, 3, 3, 3, 3, 3, 3, 3, 3, 3, 3, 3, 3, 3, 3, 3, 3, 3, 3, 3, 3, 3, 3, 3, 3, 3, 3, 3, 3, 3, 3, 3, 3, 3, 3, 3, 3, 3, 3, 3, 3, 3, 3, 3, 3, 3, 3, 3, 3, 3, 3, 3, 3, 3, 3, 3, 3, 3, 3, 3, 3, 3, 3, 3, 3, 3, 3, 3, 3, 3, 3, 3, 3, 3, 3, 3, 3, 3, 3, 3, 3, 3, 3, 3, 3, 3, 3, 3, 3, 3, 3, 3, 3, 3, 3, 3, 3, 3, 3, 3, 3, 3, 3, 3, 3, 3, 3, 3, 3, 3, 3, 3, 3, 3, 3, 3, 3, 3, 3, 3, 3, 3, 3, 3, 3, 3, 3, 3, 3, 3, 3, 3, 3, 3, 3, 3, 3, 3, 3, 3, 3, 3, 3, 3, 3, 3, 3, 3, 3, 3, 3, 3, 3, 3, 3, 3, 3, 3, 3, 3, 3, 3, 3, 3, 3, 3, 3, 3, 3, 3, 3, 3, 3, 3, 3, 3, 3, 3, 3, 3, 3, 3, 3, 3, 3, 3, 3, 3, 3, 3, 3, 3, 3, 3, 3, 3, 3, 3, 3, 3, 3, 3, 3, 3, 3, 3, 3, 3, 3, 3, 3, 3, 3, 3, 3, 3, 3, 3, 3, 3, 3, 3, 3, 3, 3, 3, 3, 3, 3, 3, 3, 3, 3, 3, 3, 3, 3, 3, 3, 3, 3, 3, 3, 3, 3, 3, 3, 3, 3, 3, 3, 3, 3, 3, 3, 3, 3, 3, 3, 3, 3, 3, 3, 3, 3, 3, 3, 3, 3, 3, 3, 3, 3, 3, 3, 3, 3, 3, 3, 3, 3, 3, 3, 3, 3, 3, 3, 3, 3, 3, 3, 3, 3, 3, 3, 3, 3, 3, 3, 3, 3, 3, 3, 3, 3, 3, 3, 3, 3, 3, 3, 3, 3, 3, 3, 3, 3, 3, 3, 3, 3, 3, 3, 3, 3, 3, 3, 3, 3, 3, 3, 3, 3, 3, 3, 3, 3, 3, 3, 3, 3, 3, 3, 3, 3, 3, 3, 3, 3, 3, 3, 3, 3, 3, 3, 3, 3, 3, 3, 3, 3, 3, 3, 3, 3, 3, 3, 3, 3, 3, 3, 3, 3, 3, 3, 3, 3, 3, 3, 3, 3, 3, 3, 3, 3, 3, 3, 3, 3, 3, 3, 3, 3, 3, 3, 3, 3, 3, 3, 3, 3, 3, 3, 3, 3, 3, 3, 3, 3, 3, 3, 3, 3, 3, 3, 3, 3, 3, 3, 3, 3, 3, 3, 3, 3, 3, 3, 3, 3, 3, 3, 3, 3, 3, 3, 3, 3, 3, 3, 3, 3, 3, 3, 3, 3, 3, 3, 3, 3, 3, 3, 3, 3, 3, 3, 3, 3, 3, 3, 3, 3, 3, 3, 3, 3, 3, 3, 3, 3, 3, 3, 3, 3, 3, 3, 3, 3, 3, 3, 3, 3, 3, 3, 3, 3, 3, 3, 3, 3, 3, 3, 3, 3, 3, 3, 3, 3, 3, 3, 3, 3, 3, 3, 3, 3, 3, 3, 3, 3, 3, 3, 3, 3, 3, 3, 3, 3, 3, 3, 3, 3, 3, 3, 3, 3, 3, 3, 3, 3, 3, 3, 3, 3, 3, 3, 3, 3, 3, 3, 3, 3, 3, 3, 3, 3, 3, 3, 3, 3, 3, 3, 3, 3, 3, 3, 3, 3, 3, 3, 3, 3, 3, 3, 3, 3, 3, 3, 3, 3, 3, 3, 3, 3, 3, 3, 3, 3, 3, 3, 3, 3, 3, 3, 3, 3, 3, 3, 3, 3, 3, 3, 3, 3, 3, 3, 3, 3, 3, 3, 3, 3, 3, 3, 3, 3, 3, 3, 3, 3, 3, 3, 3, 3, 3, 3, 3, 3, 3, 3, 3, 3, 3, 3, 3, 3, 3, 3, 3, 3, 3, 3, 3, 3, 3, 3, 3, 3, 3, 3, 3, 3, 3, 3, 3, 3, 3, 3, 3, 3, 3, 3, 3, 3, 3, 3, 3, 3, 3, 3, 3, 3, 3, 3, 3, 3, 3, 3, 3, 3, 3, 3, 3, 3, 3, 3, 3, 3, 3, 3, 3, 3, 3, 3, 3, 3, 3, 3, 3, 3, 3, 3, 3, 3, 3, 3, 3, 3, 3]\n",
      "{'blotch_apples': 0, 'normal_apples': 1, 'rot_apples': 2, 'scab_apples': 3}\n"
     ]
    }
   ],
   "source": [
    "print(dataset.labels)\n",
    "print(dataset.class_dict)"
   ]
  },
  {
   "cell_type": "code",
   "execution_count": 8,
   "metadata": {},
   "outputs": [
    {
     "name": "stdout",
     "output_type": "stream",
     "text": [
      "torch.FloatTensor\n",
      "torch.FloatTensor\n",
      "torch.FloatTensor\n",
      "torch.FloatTensor\n"
     ]
    }
   ],
   "source": [
    "print(dataset.images[0].type())\n",
    "print(dataset.images[1000].type())\n",
    "print(dataset.images[1700].type())\n",
    "print(dataset.images[2200].type())"
   ]
  },
  {
   "cell_type": "code",
   "execution_count": 19,
   "metadata": {},
   "outputs": [
    {
     "name": "stdout",
     "output_type": "stream",
     "text": [
      "1794 598 597\n"
     ]
    }
   ],
   "source": [
    "generator1 = torch.Generator().manual_seed(13)\n",
    "\n",
    "# create a train test split with 60% train, 20% test, 20% val. For later use\n",
    "train_dataset, test_dataset, val_dataset = random_split(dataset, [0.6, 0.2, 0.2], generator=generator1)\n",
    "\n",
    "# Print length of the splits to doublecheck.\n",
    "print(len(train_dataset), len(test_dataset), len(val_dataset))\n",
    "\n",
    "# Create train, test and val dataloaders for later use.\n",
    "train_loader = DataLoader(train_dataset, batch_size=100, shuffle=True)\n",
    "\n",
    "test_loader = DataLoader(test_dataset, batch_size=50, shuffle=False)\n",
    "\n",
    "val_loader = DataLoader(val_dataset, batch_size=50, shuffle=False)"
   ]
  },
  {
   "cell_type": "code",
   "execution_count": 24,
   "metadata": {},
   "outputs": [],
   "source": [
    "# Create the convolutional neural net.\n",
    "class CNN(nn.Module):\n",
    "# ---------------------------------------------------------------------------------------------------------------------------------------------------------------------------------------\n",
    "    \n",
    "    def __init__(self, img_size=64, c_in=3, loss_func=nn.CrossEntropyLoss()):\n",
    "        # Use super() to call the nn.Module.\n",
    "        super().__init__()\n",
    "\n",
    "        # Use nn.Sequential() to configure the layers.\n",
    "        self.model = nn.Sequential(\n",
    "            nn.Conv2d(c_in, 16, 3, padding=1),\n",
    "            nn.ReLU(),\n",
    "            nn. Conv2d(16, 16, 3, padding=1),\n",
    "            nn.ReLU(),\n",
    "            nn.MaxPool2d(2,2),\n",
    "\n",
    "            nn.Conv2d(16, 32, 3, padding=1),\n",
    "            nn.ReLU(),\n",
    "            nn. Conv2d(32, 32, 3, padding=1),\n",
    "            nn.ReLU(),\n",
    "            nn.MaxPool2d(2,2),\n",
    "\n",
    "            # Flatten for the linear layer.\n",
    "            nn.Flatten(),\n",
    "            nn.Linear(img_size*128, 512),\n",
    "            nn.ReLU(),\n",
    "            nn.Linear(512, 128),\n",
    "            nn.ReLU(),\n",
    "            nn.Linear(128, 4),\n",
    "            # Use softmax to create an output between 0 and 1 times 4, which makes it so the sum of the 4 outputs equals 1.\n",
    "            nn.Softmax(dim=1)\n",
    "            )\n",
    "        \n",
    "        self.loss_func = loss_func\n",
    "# ---------------------------------------------------------------------------------------------------------------------------------------------------------------------------------------- \n",
    "    # Create function to train my model with.\n",
    "    def fit(self, train_loader, val_loader, test_loader, epochs, lr, opt_function=torch.optim.Adam):\n",
    "        \n",
    "        optimizer = opt_function(self.model.parameters(),lr )\n",
    "        self.model.to(self.cuda_available())\n",
    "        history = []\n",
    "        \n",
    "        for epoch in range(epochs):\n",
    "            print(\"epoch:\",epoch+1)\n",
    "            self.model.train()\n",
    "            \n",
    "            for batch in train_loader:\n",
    "                optimizer.zero_grad()\n",
    "                loss = self.loss_calc(batch)\n",
    "                loss.backward()\n",
    "                optimizer.step()\n",
    "                \n",
    "            with torch.no_grad():    \n",
    "                self.model.eval()\n",
    "                val_loss = []\n",
    "\n",
    "                for batch in val_loader:\n",
    "                    loss = self.loss_calc(batch)\n",
    "                    val_loss.append(loss)  \n",
    "            \n",
    "            history.append(sum(val_loss))\n",
    "            print(sum(val_loss))        \n",
    "        \n",
    "        accuracy = print(\"Accuracy:\",round(self.evaluate_accuracy(test_loader)))\n",
    "        return history, accuracy\n",
    "# ---------------------------------------------------------------------------------------------------------------------------------------------------------------------------------------\n",
    "    \n",
    "    def cuda_available(self):\n",
    "\n",
    "        if torch.cuda.is_available():\n",
    "            return torch.device(\"cuda\")\n",
    "        else:\n",
    "            return torch.device(\"cpu\")\n",
    "# ---------------------------------------------------------------------------------------------------------------------------------------------------------------------------------------\n",
    "                \n",
    "    def loss_calc(self, batch):\n",
    "        image = batch[0].to(self.cuda_available())\n",
    "        labels = batch[1].to(self.cuda_available())\n",
    "        pred = self(image)        \n",
    "        loss = self.loss_func(pred, labels)\n",
    "        return loss\n",
    "\n",
    "# ---------------------------------------------------------------------------------------------------------------------------------------------------------------------------------------\n",
    "\n",
    "    def evaluate_accuracy(self, test_loader):\n",
    "        model_pred = []\n",
    "        actual_pred = []\n",
    "        cor_pred = 0\n",
    "        bad_pred = 0\n",
    "        for batch in test_loader:\n",
    "            image, labels = batch\n",
    "            image = image.to(self.cuda_available())\n",
    "            labels = labels.to(self.cuda_available())\n",
    "            pred = self(image)\n",
    "    \n",
    "            _, y_pred = torch.max(pred,1)                   \n",
    "            model_pred.extend(y_pred.data.cpu().numpy())\n",
    "            actual_pred.extend(labels.data.cpu().numpy())\n",
    "\n",
    "            # for i in range(len(y_pred)):\n",
    "            #     result = [0] * len(pred[0])\n",
    "\n",
    "            #     p = int(y_pred[i])\n",
    "            #     result[p] = 1\n",
    "            for image, labels in zip(y_pred, labels):\n",
    "                if image == labels:\n",
    "                    cor_pred += 1\n",
    "                else:\n",
    "                    bad_pred += 1\n",
    "\n",
    "\n",
    "            \n",
    "        classes = ('blotch_apples', 'normal_apples', 'rot_apples', 'scab_apples')\n",
    "\n",
    "        # Build confusion matrix\n",
    "        cf_matrix = confusion_matrix(model_pred, actual_pred)\n",
    "        df_cm = pd.DataFrame(cf_matrix / np.sum(cf_matrix, axis=1)[:, None], index = [i for i in classes], columns = [i for i in classes]).fillna(0)\n",
    "\n",
    "        print(model_pred)\n",
    "        print(actual_pred)\n",
    "        print(cf_matrix)\n",
    "        print(df_cm)\n",
    "\n",
    "        plt.figure(figsize = (12,7))\n",
    "        sn.heatmap(df_cm, annot=True)\n",
    "        plt.show()\n",
    "\n",
    "        acc = cor_pred/(cor_pred + bad_pred) * 100\n",
    "        return acc\n",
    "    \n",
    "# -------------------------------------------------------------------------------------------------------------------------------------------------------------------------------------    \n",
    "    \n",
    "    def predict_image(self, image):\n",
    "        image = image.to(self.cuda_available())\n",
    "        pred = self(image)\n",
    "        print(pred)\n",
    "\n",
    "        _, y_pred = torch.max(pred,1)                \n",
    "        result = [0] * len(pred[0])\n",
    "        p = int(y_pred[0])\n",
    "        result[p] = 1\n",
    "\n",
    "        return result\n",
    "# ---------------------------------------------------------------------------------------------------------------------------------------------------------------------------------------\n",
    "    \n",
    "    # def predict_batch(self, batch):\n",
    "    #     good_apples = 0\n",
    "    #     bad_apples = 0\n",
    "    #     for image in batch:\n",
    "    #         image = image.to(self.cuda_available())\n",
    "    #         pred = self(image)\n",
    "    \n",
    "    #         _, y_pred = torch.max(pred,1)                       \n",
    "            \n",
    "    #         for i in range(len(y_pred)):\n",
    "    #             result = [0] * len(pred[0])\n",
    "\n",
    "    #             p = int(y_pred[i])\n",
    "    #             result[p] = 1\n",
    "    #             if result == [0,1,0,0]:\n",
    "    #                 good_apples += 1\n",
    "    #             else:\n",
    "    #                 bad_apples += 1\n",
    "\n",
    "    #     acc = good_apples/(good_apples + bad_apples) * 100\n",
    "    #     return f\"The amount of good apples in this batch is: {acc}%\"\n",
    "# ---------------------------------------------------------------------------------------------------------------------------------------------------------------------------------------\n",
    "    \n",
    "    # CONFUSION MATRIX\n",
    "    \n",
    "\n",
    "\n",
    "    \n",
    "    def forward(self, data):\n",
    "\n",
    "        return self.model(data)\n"
   ]
  },
  {
   "cell_type": "code",
   "execution_count": 27,
   "metadata": {},
   "outputs": [
    {
     "name": "stdout",
     "output_type": "stream",
     "text": [
      "epoch: 1\n",
      "tensor(16.4847, device='cuda:0')\n",
      "epoch: 2\n",
      "tensor(16.1639, device='cuda:0')\n",
      "epoch: 3\n",
      "tensor(15.9825, device='cuda:0')\n",
      "epoch: 4\n",
      "tensor(15.8711, device='cuda:0')\n",
      "epoch: 5\n",
      "tensor(15.2776, device='cuda:0')\n",
      "epoch: 6\n",
      "tensor(14.7934, device='cuda:0')\n",
      "epoch: 7\n",
      "tensor(14.3956, device='cuda:0')\n",
      "epoch: 8\n",
      "tensor(14.1833, device='cuda:0')\n",
      "epoch: 9\n",
      "tensor(14.0618, device='cuda:0')\n",
      "epoch: 10\n",
      "tensor(13.8569, device='cuda:0')\n",
      "epoch: 11\n",
      "tensor(13.7675, device='cuda:0')\n",
      "epoch: 12\n",
      "tensor(13.6942, device='cuda:0')\n",
      "epoch: 13\n",
      "tensor(13.6423, device='cuda:0')\n",
      "epoch: 14\n",
      "tensor(13.5528, device='cuda:0')\n",
      "epoch: 15\n",
      "tensor(13.6047, device='cuda:0')\n",
      "epoch: 16\n",
      "tensor(13.4921, device='cuda:0')\n",
      "epoch: 17\n",
      "tensor(13.3623, device='cuda:0')\n",
      "epoch: 18\n",
      "tensor(13.6258, device='cuda:0')\n",
      "epoch: 19\n",
      "tensor(13.2185, device='cuda:0')\n",
      "epoch: 20\n",
      "tensor(13.2085, device='cuda:0')\n",
      "epoch: 21\n",
      "tensor(13.0880, device='cuda:0')\n",
      "epoch: 22\n",
      "tensor(13.0676, device='cuda:0')\n",
      "epoch: 23\n",
      "tensor(12.9515, device='cuda:0')\n",
      "epoch: 24\n",
      "tensor(12.9416, device='cuda:0')\n",
      "epoch: 25\n",
      "tensor(12.8440, device='cuda:0')\n",
      "epoch: 26\n",
      "tensor(12.7695, device='cuda:0')\n",
      "epoch: 27\n",
      "tensor(12.7110, device='cuda:0')\n",
      "epoch: 28\n",
      "tensor(12.6800, device='cuda:0')\n",
      "epoch: 29\n",
      "tensor(12.6688, device='cuda:0')\n",
      "epoch: 30\n",
      "tensor(12.6275, device='cuda:0')\n",
      "epoch: 31\n",
      "tensor(12.7689, device='cuda:0')\n",
      "epoch: 32\n",
      "tensor(12.6721, device='cuda:0')\n",
      "epoch: 33\n",
      "tensor(12.5731, device='cuda:0')\n",
      "epoch: 34\n",
      "tensor(12.5901, device='cuda:0')\n",
      "epoch: 35\n",
      "tensor(12.5009, device='cuda:0')\n",
      "epoch: 36\n",
      "tensor(12.5825, device='cuda:0')\n",
      "epoch: 37\n",
      "tensor(12.4785, device='cuda:0')\n",
      "epoch: 38\n",
      "tensor(12.4395, device='cuda:0')\n",
      "epoch: 39\n",
      "tensor(12.4372, device='cuda:0')\n",
      "epoch: 40\n",
      "tensor(12.5050, device='cuda:0')\n",
      "epoch: 41\n",
      "tensor(12.3971, device='cuda:0')\n",
      "epoch: 42\n",
      "tensor(12.4309, device='cuda:0')\n",
      "epoch: 43\n",
      "tensor(12.3933, device='cuda:0')\n",
      "epoch: 44\n",
      "tensor(12.3785, device='cuda:0')\n",
      "epoch: 45\n",
      "tensor(12.3133, device='cuda:0')\n",
      "epoch: 46\n",
      "tensor(12.2864, device='cuda:0')\n",
      "epoch: 47\n",
      "tensor(12.3333, device='cuda:0')\n",
      "epoch: 48\n",
      "tensor(12.2305, device='cuda:0')\n",
      "epoch: 49\n",
      "tensor(12.2296, device='cuda:0')\n",
      "epoch: 50\n",
      "tensor(12.1831, device='cuda:0')\n",
      "[2, 3, 0, 0, 2, 0, 3, 2, 0, 2, 2, 2, 3, 3, 0, 3, 2, 0, 2, 2, 2, 2, 3, 3, 0, 0, 0, 2, 0, 2, 2, 2, 2, 0, 3, 0, 2, 0, 0, 0, 2, 0, 2, 2, 2, 0, 3, 0, 0, 3, 2, 2, 3, 0, 0, 0, 0, 0, 0, 2, 0, 3, 0, 3, 0, 0, 0, 0, 2, 0, 0, 3, 2, 0, 0, 0, 2, 2, 2, 2, 2, 0, 2, 2, 2, 2, 0, 0, 0, 2, 2, 3, 2, 2, 0, 0, 3, 2, 0, 2, 2, 0, 3, 0, 0, 0, 2, 0, 2, 3, 2, 0, 2, 0, 2, 3, 0, 2, 3, 2, 2, 0, 3, 3, 3, 2, 3, 2, 2, 2, 2, 3, 3, 2, 2, 3, 0, 2, 3, 0, 2, 3, 0, 2, 2, 0, 2, 0, 0, 2, 3, 2, 2, 2, 2, 2, 3, 2, 3, 3, 0, 3, 0, 2, 3, 0, 0, 2, 3, 3, 2, 0, 0, 3, 3, 3, 2, 0, 3, 2, 0, 2, 2, 0, 0, 3, 2, 3, 0, 0, 0, 2, 2, 3, 2, 2, 0, 0, 0, 0, 3, 2, 2, 3, 2, 0, 2, 2, 2, 2, 2, 0, 2, 0, 3, 2, 2, 2, 0, 3, 3, 2, 0, 0, 2, 2, 0, 3, 0, 0, 2, 0, 0, 2, 0, 2, 2, 3, 2, 2, 3, 0, 2, 3, 0, 2, 2, 3, 3, 3, 0, 3, 0, 3, 3, 3, 3, 3, 2, 0, 3, 2, 0, 2, 0, 0, 0, 2, 2, 3, 2, 2, 2, 3, 3, 0, 3, 2, 0, 3, 2, 2, 3, 3, 2, 3, 2, 2, 3, 0, 3, 3, 0, 2, 0, 2, 2, 0, 2, 3, 2, 0, 0, 0, 2, 0, 2, 3, 0, 2, 0, 2, 0, 0, 2, 2, 3, 0, 2, 3, 3, 0, 2, 0, 0, 3, 0, 3, 3, 2, 0, 0, 2, 2, 3, 3, 0, 0, 2, 2, 3, 0, 3, 0, 0, 2, 3, 3, 2, 2, 2, 3, 2, 2, 2, 3, 0, 2, 2, 3, 2, 0, 2, 2, 0, 0, 2, 3, 3, 0, 0, 3, 0, 3, 3, 0, 0, 0, 2, 0, 0, 2, 3, 2, 2, 3, 2, 0, 2, 0, 2, 2, 0, 0, 2, 2, 2, 2, 0, 2, 3, 2, 3, 0, 0, 0, 0, 0, 3, 0, 0, 3, 2, 3, 2, 3, 0, 0, 2, 2, 3, 2, 0, 0, 0, 3, 0, 0, 2, 0, 0, 2, 0, 3, 2, 0, 0, 3, 2, 2, 3, 2, 2, 0, 3, 2, 3, 3, 3, 2, 0, 0, 0, 0, 2, 0, 2, 2, 2, 2, 3, 0, 0, 3, 0, 2, 3, 2, 3, 2, 2, 3, 3, 0, 3, 0, 3, 2, 0, 2, 2, 3, 3, 0, 0, 2, 0, 0, 2, 0, 3, 3, 0, 2, 2, 0, 0, 3, 0, 0, 3, 3, 0, 3, 3, 0, 2, 0, 2, 0, 3, 2, 2, 2, 3, 2, 2, 2, 3, 0, 3, 0, 3, 3, 3, 0, 2, 0, 0, 2, 3, 0, 0, 0, 2, 0, 2, 3, 3, 0, 2, 2, 3, 0, 0, 2, 2, 2, 0, 2, 0, 0, 0, 3, 0, 0, 0, 2, 0, 3, 0, 2, 2, 2, 2, 2, 2, 2, 2, 2, 2, 2, 2, 3, 2, 0, 0, 2, 2, 2, 2, 3, 2, 0, 2, 0, 2, 0, 2, 0, 2, 2, 2, 3, 2, 2, 3, 0]\n",
      "[2, 3, 0, 0, 1, 0, 3, 2, 0, 1, 2, 2, 3, 3, 0, 3, 2, 3, 2, 2, 2, 2, 3, 3, 0, 0, 0, 2, 3, 2, 2, 2, 0, 0, 3, 1, 2, 0, 0, 0, 2, 3, 2, 1, 2, 0, 3, 1, 1, 3, 2, 2, 2, 0, 0, 0, 0, 2, 0, 1, 3, 3, 0, 0, 0, 0, 0, 0, 2, 0, 0, 3, 2, 0, 1, 0, 2, 1, 2, 2, 2, 0, 2, 2, 2, 2, 0, 0, 0, 2, 2, 3, 2, 2, 3, 0, 3, 2, 0, 2, 1, 0, 3, 0, 0, 3, 2, 0, 2, 2, 2, 2, 2, 0, 2, 3, 0, 2, 3, 1, 2, 0, 3, 3, 3, 1, 2, 2, 1, 1, 2, 2, 3, 2, 2, 2, 0, 2, 3, 0, 2, 3, 0, 2, 2, 0, 2, 0, 2, 2, 3, 0, 2, 1, 2, 1, 1, 1, 3, 3, 0, 0, 0, 2, 3, 0, 0, 2, 1, 2, 1, 0, 0, 3, 3, 3, 2, 0, 2, 2, 0, 2, 2, 0, 0, 3, 2, 1, 0, 0, 0, 0, 2, 1, 2, 2, 1, 3, 3, 0, 2, 1, 2, 0, 3, 1, 2, 2, 1, 2, 1, 0, 2, 0, 0, 2, 2, 2, 0, 2, 3, 2, 2, 0, 2, 2, 0, 3, 0, 0, 2, 2, 0, 2, 1, 2, 1, 3, 2, 2, 3, 3, 2, 2, 0, 2, 2, 2, 3, 3, 0, 3, 0, 3, 3, 3, 2, 3, 2, 3, 3, 2, 0, 2, 0, 0, 0, 2, 1, 3, 1, 1, 2, 3, 3, 3, 2, 2, 0, 3, 2, 2, 3, 3, 2, 3, 2, 3, 0, 0, 0, 3, 0, 2, 0, 3, 1, 1, 3, 3, 2, 0, 0, 3, 2, 0, 2, 3, 0, 2, 0, 2, 0, 3, 2, 2, 3, 2, 1, 0, 2, 0, 2, 3, 3, 2, 0, 3, 2, 2, 3, 0, 2, 2, 2, 3, 3, 1, 1, 1, 3, 0, 3, 0, 0, 2, 3, 3, 2, 2, 2, 3, 2, 2, 2, 3, 0, 2, 2, 2, 2, 0, 1, 2, 0, 0, 2, 3, 3, 2, 0, 3, 1, 2, 0, 0, 0, 3, 2, 3, 3, 2, 3, 2, 0, 3, 1, 3, 2, 0, 2, 2, 0, 3, 2, 2, 2, 1, 0, 2, 2, 2, 3, 1, 0, 0, 0, 0, 3, 1, 0, 2, 2, 3, 2, 3, 0, 0, 2, 2, 3, 2, 3, 0, 0, 3, 3, 0, 2, 0, 0, 1, 3, 2, 2, 1, 0, 3, 2, 2, 3, 2, 2, 3, 2, 3, 3, 0, 3, 3, 0, 0, 0, 0, 2, 0, 2, 2, 3, 2, 3, 0, 2, 2, 0, 2, 0, 1, 2, 2, 2, 3, 2, 0, 3, 0, 3, 2, 1, 2, 2, 3, 3, 0, 0, 2, 0, 2, 2, 0, 1, 3, 0, 2, 2, 0, 0, 3, 0, 0, 3, 2, 0, 3, 2, 2, 1, 0, 1, 0, 3, 2, 2, 2, 3, 2, 2, 2, 2, 2, 3, 0, 3, 3, 3, 0, 2, 0, 0, 2, 3, 0, 0, 0, 2, 3, 2, 0, 3, 0, 2, 1, 0, 0, 1, 2, 2, 2, 0, 2, 0, 0, 3, 3, 1, 0, 0, 3, 0, 3, 0, 1, 2, 2, 1, 2, 2, 2, 1, 1, 2, 2, 2, 3, 2, 0, 2, 2, 3, 2, 3, 3, 1, 1, 2, 0, 2, 0, 2, 0, 2, 2, 1, 3, 2, 2, 3, 0]\n",
      "[[155  17  12  28]\n",
      " [  0   0   0   0]\n",
      " [  4  39 186  10]\n",
      " [ 12   5  29 101]]\n",
      "               blotch_apples  normal_apples  rot_apples  scab_apples\n",
      "blotch_apples       0.731132       0.080189    0.056604     0.132075\n",
      "normal_apples       0.000000       0.000000    0.000000     0.000000\n",
      "rot_apples          0.016736       0.163180    0.778243     0.041841\n",
      "scab_apples         0.081633       0.034014    0.197279     0.687075\n"
     ]
    },
    {
     "name": "stderr",
     "output_type": "stream",
     "text": [
      "C:\\Users\\nilsm\\AppData\\Local\\Temp\\ipykernel_7768\\1630602291.py:117: RuntimeWarning: invalid value encountered in divide\n",
      "  df_cm = pd.DataFrame(cf_matrix / np.sum(cf_matrix, axis=1)[:, None], index = [i for i in classes], columns = [i for i in classes]).fillna(0)\n"
     ]
    },
    {
     "data": {
      "image/png": "[encoded data removed]",
      "text/plain": [
       "<Figure size 1200x700 with 2 Axes>"
      ]
     },
     "metadata": {},
     "output_type": "display_data"
    },
    {
     "name": "stdout",
     "output_type": "stream",
     "text": [
      "Accuracy: 74\n"
     ]
    },
    {
     "data": {
      "text/plain": [
       "([tensor(16.4847, device='cuda:0'),\n",
       "  tensor(16.1639, device='cuda:0'),\n",
       "  tensor(15.9825, device='cuda:0'),\n",
       "  tensor(15.8711, device='cuda:0'),\n",
       "  tensor(15.2776, device='cuda:0'),\n",
       "  tensor(14.7934, device='cuda:0'),\n",
       "  tensor(14.3956, device='cuda:0'),\n",
       "  tensor(14.1833, device='cuda:0'),\n",
       "  tensor(14.0618, device='cuda:0'),\n",
       "  tensor(13.8569, device='cuda:0'),\n",
       "  tensor(13.7675, device='cuda:0'),\n",
       "  tensor(13.6942, device='cuda:0'),\n",
       "  tensor(13.6423, device='cuda:0'),\n",
       "  tensor(13.5528, device='cuda:0'),\n",
       "  tensor(13.6047, device='cuda:0'),\n",
       "  tensor(13.4921, device='cuda:0'),\n",
       "  tensor(13.3623, device='cuda:0'),\n",
       "  tensor(13.6258, device='cuda:0'),\n",
       "  tensor(13.2185, device='cuda:0'),\n",
       "  tensor(13.2085, device='cuda:0'),\n",
       "  tensor(13.0880, device='cuda:0'),\n",
       "  tensor(13.0676, device='cuda:0'),\n",
       "  tensor(12.9515, device='cuda:0'),\n",
       "  tensor(12.9416, device='cuda:0'),\n",
       "  tensor(12.8440, device='cuda:0'),\n",
       "  tensor(12.7695, device='cuda:0'),\n",
       "  tensor(12.7110, device='cuda:0'),\n",
       "  tensor(12.6800, device='cuda:0'),\n",
       "  tensor(12.6688, device='cuda:0'),\n",
       "  tensor(12.6275, device='cuda:0'),\n",
       "  tensor(12.7689, device='cuda:0'),\n",
       "  tensor(12.6721, device='cuda:0'),\n",
       "  tensor(12.5731, device='cuda:0'),\n",
       "  tensor(12.5901, device='cuda:0'),\n",
       "  tensor(12.5009, device='cuda:0'),\n",
       "  tensor(12.5825, device='cuda:0'),\n",
       "  tensor(12.4785, device='cuda:0'),\n",
       "  tensor(12.4395, device='cuda:0'),\n",
       "  tensor(12.4372, device='cuda:0'),\n",
       "  tensor(12.5050, device='cuda:0'),\n",
       "  tensor(12.3971, device='cuda:0'),\n",
       "  tensor(12.4309, device='cuda:0'),\n",
       "  tensor(12.3933, device='cuda:0'),\n",
       "  tensor(12.3785, device='cuda:0'),\n",
       "  tensor(12.3133, device='cuda:0'),\n",
       "  tensor(12.2864, device='cuda:0'),\n",
       "  tensor(12.3333, device='cuda:0'),\n",
       "  tensor(12.2305, device='cuda:0'),\n",
       "  tensor(12.2296, device='cuda:0'),\n",
       "  tensor(12.1831, device='cuda:0')],\n",
       " None)"
      ]
     },
     "execution_count": 27,
     "metadata": {},
     "output_type": "execute_result"
    }
   ],
   "source": [
    "# Loop over dataloader and push images and labels to device\n",
    "# dataset.images.to(\"cuda\")\n",
    "# dataset.labels.to(\"cuda\")\n",
    "\n",
    "net = CNN()\n",
    "\n",
    "net.fit(train_loader, val_loader, test_loader, lr = 0.00008, epochs=50)\n"
   ]
  },
  {
   "cell_type": "code",
   "execution_count": 13,
   "metadata": {},
   "outputs": [],
   "source": [
    "model_path = \"..//models/CNN_75\"\n",
    "\n",
    "with open(model_path, 'wb') as f:\n",
    "        pkl.dump(net, f)"
   ]
  },
  {
   "cell_type": "code",
   "execution_count": 14,
   "metadata": {},
   "outputs": [
    {
     "name": "stdout",
     "output_type": "stream",
     "text": [
      "tensor([[5.3777e-01, 4.7317e-05, 1.3277e-03, 4.6085e-01]], device='cuda:0',\n",
      "       grad_fn=<SoftmaxBackward0>)\n",
      "tensor([[5.3777e-01, 4.7317e-05, 1.3277e-03, 4.6085e-01]], device='cuda:0',\n",
      "       grad_fn=<SoftmaxBackward0>)\n",
      "[1, 0, 0, 0]\n",
      "tensor([[7.5662e-01, 1.3526e-04, 2.3706e-02, 2.1954e-01]], device='cuda:0',\n",
      "       grad_fn=<SoftmaxBackward0>)\n",
      "tensor([[7.5662e-01, 1.3526e-04, 2.3706e-02, 2.1954e-01]], device='cuda:0',\n",
      "       grad_fn=<SoftmaxBackward0>)\n",
      "[1, 0, 0, 0]\n",
      "tensor([[6.9951e-01, 8.7026e-05, 6.5980e-03, 2.9380e-01]], device='cuda:0',\n",
      "       grad_fn=<SoftmaxBackward0>)\n",
      "tensor([[6.9951e-01, 8.7026e-05, 6.5980e-03, 2.9380e-01]], device='cuda:0',\n",
      "       grad_fn=<SoftmaxBackward0>)\n",
      "[1, 0, 0, 0]\n",
      "tensor([[8.1960e-01, 4.4554e-05, 2.0864e-02, 1.5950e-01]], device='cuda:0',\n",
      "       grad_fn=<SoftmaxBackward0>)\n",
      "tensor([[8.1960e-01, 4.4554e-05, 2.0864e-02, 1.5950e-01]], device='cuda:0',\n",
      "       grad_fn=<SoftmaxBackward0>)\n",
      "[1, 0, 0, 0]\n"
     ]
    },
    {
     "name": "stderr",
     "output_type": "stream",
     "text": [
      "C:\\Users\\nilsm\\AppData\\Local\\Packages\\PythonSoftwareFoundation.Python.3.10_qbz5n2kfra8p0\\LocalCache\\local-packages\\Python310\\site-packages\\torchvision\\transforms\\functional.py:1603: UserWarning: The default value of the antialias parameter of all the resizing transforms (Resize(), RandomResizedCrop(), etc.) will change from None to True in v0.17, in order to be consistent across the PIL and Tensor backends. To suppress this warning, directly pass antialias=True (recommended, future default), antialias=None (current default, which means False for Tensors and True for PIL), or antialias=False (only works on Tensors - PIL will still use antialiasing). This also applies if you are using the inference transforms from the models weights: update the call to weights.transforms(antialias=True).\n",
      "  warnings.warn(\n"
     ]
    }
   ],
   "source": [
    "# load = open(model_path, \"rb\")\n",
    "# loaded_net = pkl.load(load)\n",
    "\n",
    "normal = [120,121,122,123]\n",
    "\n",
    "for i in normal:\n",
    "    test_path = f\"../informatie/apple_disease_classification/images/Test/blotch_Apple/{i}.jpg\"\n",
    "    test_img = read_image(test_path, ImageReadMode.UNCHANGED)/255\n",
    "\n",
    "    test_img = resize(test_img)\n",
    "    print(net(test_img.unsqueeze(0).to(\"cuda\")))\n",
    "    test_img = test_img.unsqueeze(0)\n",
    "    result = net.predict_image(test_img)\n",
    "    print(result)\n",
    "    # test_img.shape\n",
    "    "
   ]
  },
  {
   "cell_type": "code",
   "execution_count": 15,
   "metadata": {},
   "outputs": [
    {
     "data": {
      "text/plain": [
       "'c:\\\\Users\\\\nilsm\\\\workspace\\\\MakeAIWork3\\\\Project 3\\\\notebooks'"
      ]
     },
     "execution_count": 15,
     "metadata": {},
     "output_type": "execute_result"
    }
   ],
   "source": [
    "import os\n",
    "os.getcwd()"
   ]
  },
  {
   "cell_type": "code",
   "execution_count": 16,
   "metadata": {},
   "outputs": [],
   "source": [
    "# def evaluate_accuracy(self, test_loader):         \n",
    "#         cor_pred = 0\n",
    "#         bad_pred = 0\n",
    "#         for batch in test_loader:\n",
    "#             image, labels = batch\n",
    "#             image = image.to(self.cuda_available())\n",
    "#             labels = labels.to(self.cuda_available())\n",
    "#             result = self.predict(image)\n",
    "\n",
    "#             for i in range(len(result)):\n",
    "\n",
    "#                 if result == labels[i].tolist():\n",
    "#                     cor_pred += 1\n",
    "#                 else:\n",
    "#                     bad_pred += 1\n",
    "\n",
    "#         acc = cor_pred/(cor_pred + bad_pred) * 100\n",
    "#         return acc     \n",
    "    \n",
    "#     def predict(self, image):\n",
    "#         pred = self(image)\n",
    "#         _, y_pred = torch.max(pred,1)                       \n",
    "        \n",
    "#         for i in range(len(y_pred)):\n",
    "#             result = [0] * len(pred[0])\n",
    "\n",
    "#             p = int(y_pred[i])\n",
    "#             result[p] = 1\n",
    "\n",
    "#         return result"
   ]
  },
  {
   "cell_type": "code",
   "execution_count": null,
   "metadata": {},
   "outputs": [],
   "source": [
    "\n",
    "\n"
   ]
  }
 ],
 "metadata": {
  "kernelspec": {
   "display_name": "Python 3",
   "language": "python",
   "name": "python3"
  },
  "language_info": {
   "codemirror_mode": {
    "name": "ipython",
    "version": 3
   },
   "file_extension": ".py",
   "mimetype": "text/x-python",
   "name": "python",
   "nbconvert_exporter": "python",
   "pygments_lexer": "ipython3",
   "version": "3.10.11"
  },
  "orig_nbformat": 4
 },
 "nbformat": 4,
 "nbformat_minor": 2
}
