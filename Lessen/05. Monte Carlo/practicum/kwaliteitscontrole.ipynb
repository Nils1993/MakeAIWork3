{
 "cells": [
  {
   "cell_type": "markdown",
   "id": "4bdbdeaa-79d8-416d-91b6-0566f3f2eaf4",
   "metadata": {
    "tags": []
   },
   "source": [
    "# Statistische kwaliteitscontrole"
   ]
  },
  {
   "cell_type": "markdown",
   "id": "64960ef1-4dce-4f48-b69f-fc48178fdc2c",
   "metadata": {},
   "source": [
    "![quality](quality.jpg)"
   ]
  },
  {
   "cell_type": "markdown",
   "id": "d1af3142-d8be-4a22-a21b-d058fae53330",
   "metadata": {},
   "source": [
    "## Situatie\n",
    "\n",
    "De firma Glow BV produceert lampen.\n",
    "\n",
    "- Bekend is dat **2%** van de productie defecten bevat\n",
    "- De dagproductie bestaat uit **75.000 lampen**"
   ]
  },
  {
   "cell_type": "markdown",
   "id": "3ad208d3-066d-4c7e-a4c7-8456202b308d",
   "metadata": {},
   "source": [
    "## Opdracht\n",
    "\n",
    "- Onderzoek hoeveel kapotte lampen je tegenkomt als je **25 lampen** uit de totale dagproductie inspecteert\n",
    "- Voer de inspectie **10 maal** uit\n",
    "- Maak een kort overzicht van je bevindingen (in Excel, met MatplotLib of met print-statements)\n",
    "\n",
    "Begin met de analyse hieronder."
   ]
  },
  {
   "cell_type": "markdown",
   "id": "861d9c5f-0d6d-4f1c-ba69-531d3c632cfe",
   "metadata": {},
   "source": [
    "## Stap 1: analyseren\n",
    "\n",
    "- Bedenk hoe je de productie en de productiefout simuleert (zie stap 2 voor een hint)\n",
    "- Bedenk hoe het inspectieproces verloopt\n",
    "\n",
    "**Hint**: zitten er functies in de [random module](https://www.w3schools.com/python/module_random.asp) die passen bij deze opdracht?"
   ]
  },
  {
   "cell_type": "markdown",
   "id": "61577874-6ad0-4406-b49c-bfe83337d3d5",
   "metadata": {},
   "source": [
    "## Stap 2: schetsen\n",
    "\n",
    "Werk op basis van je analyse stapsgewijs een oplossing uit, bijvoorbeeld:"
   ]
  },
  {
   "cell_type": "code",
   "execution_count": 2,
   "id": "397f1676-3852-41ea-b367-77520ef2e2c2",
   "metadata": {},
   "outputs": [],
   "source": [
    "# 1. Genereer een lijst met functionele lampen (hoeveel?)\n",
    "\n",
    "# 2. Vul de lijst aan met defecte lampen (hoeveel?)\n",
    "\n",
    "# ..."
   ]
  },
  {
   "cell_type": "markdown",
   "id": "37923139-5fbd-4575-ab9b-72ad309b50be",
   "metadata": {},
   "source": [
    "- Als bovenstaande niet lukt dan zal het implementeren ook niet lukken...\n",
    "- Vraag om hulp, maar oefen eerst met het uitwerken van een oplossing"
   ]
  },
  {
   "cell_type": "markdown",
   "id": "03440dea-9b95-4b92-9d89-8385dbad8ebe",
   "metadata": {},
   "source": [
    "## Stap 3: implementeren\n",
    "\n",
    "- Werk de bovenstaande schets stap voor stap uit\n",
    "- Begin pas met implementeren als de schets klopt"
   ]
  },
  {
   "cell_type": "code",
   "execution_count": 4,
   "id": "ac97b428-2e7f-4088-a0c1-a83f619802e0",
   "metadata": {},
   "outputs": [],
   "source": [
    "# Stappenplan schets\n",
    "\n",
    "# Implementatie"
   ]
  },
  {
   "cell_type": "markdown",
   "id": "5000db0d-561e-4cd8-9870-201de800bc5a",
   "metadata": {},
   "source": [
    "## Stap 4: reflecteren\n",
    "\n",
    "1. (a) Komt het gemiddelde van je inspectie overeen met de daadwerkelijke productiefout?\n",
    "\n",
    "   (b) Zo nee: hoeveel inspecties moet je dan doen om in de buurt te komen van de 2%?\n",
    "\n",
    "2. (a) Is het verstandig om kosten te drukken en maar 5 inspecties uit te voeren?\n",
    "\n",
    "   (b) Of per inspectie slechts 15 lampen te onderzoeken?\n",
    "\n",
    "3. (a) Maakt het uit of je de lampen na inspectie terugstopt in de batch?\n",
    "\n",
    "   (b) Kun je dit aantonen met je simulatie?"
   ]
  },
  {
   "cell_type": "code",
   "execution_count": 5,
   "id": "02ca0d82-1022-497f-b570-9e6126f95e4f",
   "metadata": {
    "tags": []
   },
   "outputs": [],
   "source": [
    "# Bewijs / uitwerkingen\n",
    "\n",
    "# ..."
   ]
  },
  {
   "cell_type": "markdown",
   "id": "324c2c27-f28e-4da5-8d5e-6f06962d04aa",
   "metadata": {},
   "source": [
    "## Extra: variatie in productiefout\n",
    "\n",
    "De aanname is dat 2% van de productie defecten bevat, maar dit is slechts een **gemiddelde** is. Soms is het 3% dan weer 2% of zelfs 5%. De productiefout hangt namelijk weer af van de productiefout in de onderdelen waaruit de lamp is opgebouwd.\n",
    "\n",
    "- Breid je model uit waarin je de productiefout laat varieren met 1%\n",
    "- Maak dit voor de inspectie uit?"
   ]
  },
  {
   "cell_type": "code",
   "execution_count": 3,
   "id": "061c9628-0244-4787-930e-0272c943caab",
   "metadata": {
    "tags": []
   },
   "outputs": [],
   "source": [
    "# Uitbreiding\n",
    "\n",
    "# ..."
   ]
  },
  {
   "cell_type": "markdown",
   "id": "a5de8e30-2e28-4896-98af-be1471aecaf5",
   "metadata": {},
   "source": [
    "## Extra: Bayesiaanse statistiek\n",
    "\n",
    "In de bijlage vind je een csv bestand met daarin een onbekend aantal lampen waarvan er een aantal stuk zijn.\n",
    "\n",
    "1. Lees het bestand in en achterhaal met een aantal inspecties wat het percentage defecte lampen moet zijn\n",
    "\n",
    "2. Controleer daarna of dit juist was door de totale lijst met lampen te analyseren\n",
    "\n",
    "Bovenstaande is een voorbeeld van Baysiaanse statistiek."
   ]
  }
 ],
 "metadata": {
  "kernelspec": {
   "display_name": "Python 3 (ipykernel)",
   "language": "python",
   "name": "python3"
  },
  "language_info": {
   "codemirror_mode": {
    "name": "ipython",
    "version": 3
   },
   "file_extension": ".py",
   "mimetype": "text/x-python",
   "name": "python",
   "nbconvert_exporter": "python",
   "pygments_lexer": "ipython3",
   "version": "3.11.3"
  },
  "toc-showcode": false,
  "toc-showmarkdowntxt": false
 },
 "nbformat": 4,
 "nbformat_minor": 5
}
