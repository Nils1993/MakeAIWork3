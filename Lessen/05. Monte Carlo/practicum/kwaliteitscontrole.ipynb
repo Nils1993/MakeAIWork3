{
 "cells": [
  {
   "attachments": {},
   "cell_type": "markdown",
   "id": "4bdbdeaa-79d8-416d-91b6-0566f3f2eaf4",
   "metadata": {
    "tags": []
   },
   "source": [
    "# Statistische kwaliteitscontrole"
   ]
  },
  {
   "attachments": {},
   "cell_type": "markdown",
   "id": "64960ef1-4dce-4f48-b69f-fc48178fdc2c",
   "metadata": {},
   "source": [
    "![quality](quality.jpg)"
   ]
  },
  {
   "attachments": {},
   "cell_type": "markdown",
   "id": "d1af3142-d8be-4a22-a21b-d058fae53330",
   "metadata": {},
   "source": [
    "## Situatie\n",
    "\n",
    "De firma Glow BV produceert lampen.\n",
    "\n",
    "- Bekend is dat **2%** van de productie defecten bevat\n",
    "- De dagproductie bestaat uit **75.000 lampen**"
   ]
  },
  {
   "attachments": {},
   "cell_type": "markdown",
   "id": "3ad208d3-066d-4c7e-a4c7-8456202b308d",
   "metadata": {},
   "source": [
    "## Opdracht\n",
    "\n",
    "- Onderzoek hoeveel kapotte lampen je tegenkomt als je **25 lampen** uit de totale dagproductie inspecteert\n",
    "- Voer de inspectie **10 maal** uit\n",
    "- Maak een kort overzicht van je bevindingen (in Excel, met MatplotLib of met print-statements)\n",
    "\n",
    "Begin met de analyse hieronder."
   ]
  },
  {
   "attachments": {},
   "cell_type": "markdown",
   "id": "861d9c5f-0d6d-4f1c-ba69-531d3c632cfe",
   "metadata": {},
   "source": [
    "## Stap 1: analyseren\n",
    "\n",
    "- Bedenk hoe je de productie en de productiefout simuleert (zie stap 2 voor een hint)\n",
    "- Bedenk hoe het inspectieproces verloopt\n",
    "\n",
    "**Hint**: zitten er functies in de [random module](https://www.w3schools.com/python/module_random.asp) die passen bij deze opdracht?"
   ]
  },
  {
   "attachments": {},
   "cell_type": "markdown",
   "id": "61577874-6ad0-4406-b49c-bfe83337d3d5",
   "metadata": {},
   "source": [
    "## Stap 2: schetsen\n",
    "\n",
    "Werk op basis van je analyse stapsgewijs een oplossing uit, bijvoorbeeld:"
   ]
  },
  {
   "cell_type": "code",
   "execution_count": 6,
   "id": "397f1676-3852-41ea-b367-77520ef2e2c2",
   "metadata": {},
   "outputs": [
    {
     "name": "stdout",
     "output_type": "stream",
     "text": [
      "7500\n",
      "Good\n"
     ]
    }
   ],
   "source": [
    "# 1. Genereer een lijst met functionele lampen (hoeveel?)\n",
    "# - Maak lege lijst\n",
    "# - Vul lijst met 98% van 75000 lampen en geef aan dat het goede lampen zijn\n",
    "\n",
    "# 2. Vul de lijst aan met defecte lampen (hoeveel?)\n",
    "# - Vul de lijst aan (.append()) met de overige 2% en geef aan dat het slechte lampen zijn\n",
    "\n",
    "# 3. Check hoeveel goede en hoeveel slechte lampen er in zitten en controleer de hoeveelheid.\n",
    "# - Zoek hiervoor op naam.\n",
    "\n",
    "# 4. Haal 25 random lampen uit de lijst en controleer deze of ze goed of slecht zijn\n",
    "# 5. Herhaal 10x (loop)\n",
    "\n",
    "\n",
    "    "
   ]
  },
  {
   "attachments": {},
   "cell_type": "markdown",
   "id": "37923139-5fbd-4575-ab9b-72ad309b50be",
   "metadata": {},
   "source": [
    "- Als bovenstaande niet lukt dan zal het implementeren ook niet lukken...\n",
    "- Vraag om hulp, maar oefen eerst met het uitwerken van een oplossing"
   ]
  },
  {
   "attachments": {},
   "cell_type": "markdown",
   "id": "03440dea-9b95-4b92-9d89-8385dbad8ebe",
   "metadata": {},
   "source": [
    "## Stap 3: implementeren\n",
    "\n",
    "- Werk de bovenstaande schets stap voor stap uit\n",
    "- Begin pas met implementeren als de schets klopt"
   ]
  },
  {
   "cell_type": "code",
   "execution_count": 32,
   "id": "ac97b428-2e7f-4088-a0c1-a83f619802e0",
   "metadata": {},
   "outputs": [
    {
     "name": "stdout",
     "output_type": "stream",
     "text": [
      "73500\n",
      "1500\n",
      "There are 73500 good lamps\n",
      "There are 1500 bad lamps\n"
     ]
    }
   ],
   "source": [
    "# Stappenplan schets\n",
    "\n",
    "# Implementatie\n",
    "from random import randint,sample\n",
    "\n",
    "# maak lege lijst\n",
    "lamps = list()\n",
    "# Vul lijst met 98% van 75000 lampen en geef aan dat het goede lampen zijn\n",
    "good_count = int((75000 / 100) * 98)\n",
    "print(good_count)\n",
    "\n",
    "for i in range(good_count):\n",
    "    lamps.append(f\"Good lamp {i}\")\n",
    "\n",
    "# Vul de lijst aan (.append()) met de overige 2% en geef aan dat het slechte lampen zijn\n",
    "bad_count = int((75000 / 100) * 2)\n",
    "print(bad_count)\n",
    "\n",
    "for j in range(bad_count):\n",
    "    lamps.append(f\"Bad lamp {j}\")\n",
    "\n",
    "# Check hoeveel goede en hoeveel slechte lampen er in zitten en controleer de hoeveelheid.\n",
    "count_good = 0\n",
    "count_bad = 0\n",
    "for n in range(len(lamps)):\n",
    "    if lamps[n][0:4] == \"Good\":\n",
    "        count_good += 1\n",
    "    else:\n",
    "        count_bad += 1\n",
    "\n",
    "print(f\"There are {count_good} good lamps\")\n",
    "print(f\"There are {count_bad} bad lamps\")\n",
    "\n",
    "\n",
    "\n",
    "\n",
    "\n"
   ]
  },
  {
   "cell_type": "code",
   "execution_count": 65,
   "id": "4ce2f987",
   "metadata": {},
   "outputs": [
    {
     "name": "stdout",
     "output_type": "stream",
     "text": [
      "There are 25 good lamps in the test batch\n",
      "there are 0 bad lamps in the test batch\n",
      "\n",
      "\n",
      "['4% of batch 1 is bad', '4% of batch 2 is bad', '4% of batch 3 is bad', '0% of batch 4 is bad', '0% of batch 5 is bad', '0% of batch 6 is bad', '0% of batch 7 is bad', '4% of batch 8 is bad', '0% of batch 9 is bad', '8% of batch 10 is bad', '0% of batch 11 is bad', '0% of batch 12 is bad', '4% of batch 13 is bad', '0% of batch 14 is bad', '0% of batch 15 is bad', '0% of batch 16 is bad', '4% of batch 17 is bad', '0% of batch 18 is bad', '4% of batch 19 is bad', '0% of batch 20 is bad']\n"
     ]
    }
   ],
   "source": [
    "# Haal 25 random lampen uit de lijst en controleer deze of ze goed of slecht zijn\n",
    "test_batch = sample(lamps, 25)\n",
    "\n",
    "test_count = 0\n",
    "for i in range(len(test_batch)):\n",
    "    if test_batch[i][0:4] == \"Good\":\n",
    "        test_count += 1\n",
    "\n",
    "print(f\"There are {test_count} good lamps in the test batch\")\n",
    "print(f\"there are {(25 - test_count)} bad lamps in the test batch\")\n",
    "print(\"\\n\")\n",
    "\n",
    "# Herhaal 10x (loop)\n",
    "batch_size = 25\n",
    "batch_result = list()\n",
    "for j in range(20):\n",
    "    test_batch = sample(lamps, batch_size)\n",
    "    test_count = 0\n",
    "\n",
    "    for i in range(len(test_batch)):\n",
    "        if test_batch[i][0:4] == \"Good\":\n",
    "            test_count += 1\n",
    "        \n",
    "    bad_batch = (batch_size - test_count)\n",
    "    batch_result.append(f\"{int(bad_batch*100/batch_size)}% of batch {j+1} is bad\")\n",
    "    \n",
    "\n",
    "print(batch_result)\n",
    "\n",
    "    # print(f\"There are {test_count} good lamps in batch {j}. this is {int(test_count*100/batch_size)}%\")    \n",
    "    # print(f\"there are {bad_batch} bad lamps in batch{j}. This is {int(bad_batch*100/batch_size)}%\")\n",
    "    # print(\"\\n\")\n",
    "\n"
   ]
  },
  {
   "attachments": {},
   "cell_type": "markdown",
   "id": "5000db0d-561e-4cd8-9870-201de800bc5a",
   "metadata": {},
   "source": [
    "## Stap 4: reflecteren\n",
    "\n",
    "1. (a) Komt het gemiddelde van je inspectie overeen met de daadwerkelijke productiefout?\n",
    "\n",
    "   (b) Zo nee: hoeveel inspecties moet je dan doen om in de buurt te komen van de 2%?\n",
    "\n",
    "2. (a) Is het verstandig om kosten te drukken en maar 5 inspecties uit te voeren?\n",
    "\n",
    "   (b) Of per inspectie slechts 15 lampen te onderzoeken?\n",
    "\n",
    "3. (a) Maakt het uit of je de lampen na inspectie terugstopt in de batch?\n",
    "\n",
    "   (b) Kun je dit aantonen met je simulatie?"
   ]
  },
  {
   "cell_type": "code",
   "execution_count": 66,
   "id": "02ca0d82-1022-497f-b570-9e6126f95e4f",
   "metadata": {
    "tags": []
   },
   "outputs": [
    {
     "name": "stdout",
     "output_type": "stream",
     "text": [
      "1.8%\n"
     ]
    }
   ],
   "source": [
    "# Bewijs / uitwerkingen\n",
    "# bereken het gemiddelde\n",
    "total_baddies = 0\n",
    "for n in range(len(batch_result)):\n",
    "    total_baddies += int(batch_result[n][0])\n",
    "\n",
    "average_baddies = total_baddies/len(batch_result)\n",
    "\n",
    "print(f\"{average_baddies}%\")\n",
    "# Het gemiddelde fluctueerd enorm, is iedere keer anders als ik hem opnieuw run.\n",
    "# 20 runs lijkt redelijk in de buurt te zitten.\n",
    "# Het is dus niet verstandig om kosten te drukken door maar 5 inspecties te doen.\n",
    "# 15 inspecties zou een twijfelgevalletje zijn. to be safe is toch echt rond de 20 inspecties.\n",
    "# bij 75000 lampen maakt het niet uit of ze terug gestopt worden aangezien er rond de 20 inspecties van 25 lampen worden gedaan, 20*25 = 1000."
   ]
  },
  {
   "attachments": {},
   "cell_type": "markdown",
   "id": "324c2c27-f28e-4da5-8d5e-6f06962d04aa",
   "metadata": {},
   "source": [
    "## Extra: variatie in productiefout\n",
    "\n",
    "De aanname is dat 2% van de productie defecten bevat, maar dit is slechts een **gemiddelde** is. Soms is het 3% dan weer 2% of zelfs 5%. De productiefout hangt namelijk weer af van de productiefout in de onderdelen waaruit de lamp is opgebouwd.\n",
    "\n",
    "- Breid je model uit waarin je de productiefout laat varieren met 1%\n",
    "- Maak dit voor de inspectie uit?"
   ]
  },
  {
   "cell_type": "code",
   "execution_count": 78,
   "id": "061c9628-0244-4787-930e-0272c943caab",
   "metadata": {
    "tags": []
   },
   "outputs": [
    {
     "name": "stdout",
     "output_type": "stream",
     "text": [
      "['0% of batch 1 is bad', '8% of batch 2 is bad', '0% of batch 3 is bad', '0% of batch 4 is bad', '4% of batch 5 is bad', '4% of batch 6 is bad', '0% of batch 7 is bad', '8% of batch 8 is bad', '0% of batch 9 is bad', '4% of batch 10 is bad', '4% of batch 11 is bad', '0% of batch 12 is bad', '4% of batch 13 is bad', '0% of batch 14 is bad', '0% of batch 15 is bad', '4% of batch 16 is bad', '0% of batch 17 is bad', '0% of batch 18 is bad', '4% of batch 19 is bad', '4% of batch 20 is bad']\n",
      "2.4%\n"
     ]
    }
   ],
   "source": [
    "# Uitbreiding\n",
    "lamps2 = list()\n",
    "goodLampCount = 0\n",
    "badLampCount = 0\n",
    "for i in range(75000):\n",
    "    if randint(1,100) > randint(1,3):\n",
    "        goodLampCount += 1\n",
    "        lamps2.append(f\"Good lamp {goodLampCount}\")\n",
    "\n",
    "    else:\n",
    "        badLampCount += 1\n",
    "        lamps2.append(f\"Bad lamp {badLampCount}\")\n",
    "\n",
    "batch_size = 25\n",
    "batch_result = list()\n",
    "for j in range(20):\n",
    "    test_batch = sample(lamps2, batch_size)\n",
    "    test_count = 0\n",
    "\n",
    "    for i in range(len(test_batch)):\n",
    "        if test_batch[i][0:4] == \"Good\":\n",
    "            test_count += 1\n",
    "        \n",
    "    bad_batch = (batch_size - test_count)\n",
    "    batch_result.append(f\"{int(bad_batch*100/batch_size)}% of batch {j+1} is bad\")\n",
    "\n",
    "print(batch_result)\n",
    "\n",
    "total_baddies = 0\n",
    "for n in range(len(batch_result)):\n",
    "    total_baddies += int(batch_result[n][0])\n",
    "\n",
    "average_baddies = total_baddies/len(batch_result)\n",
    "\n",
    "print(f\"{average_baddies}%\")\n",
    "# het ziet er naar uit dat het niet zo veel uit maakt voor de inspectie."
   ]
  },
  {
   "attachments": {},
   "cell_type": "markdown",
   "id": "a5de8e30-2e28-4896-98af-be1471aecaf5",
   "metadata": {},
   "source": [
    "## Extra: Bayesiaanse statistiek\n",
    "\n",
    "In de bijlage vind je een csv bestand met daarin een onbekend aantal lampen waarvan er een aantal stuk zijn.\n",
    "\n",
    "1. Lees het bestand in en achterhaal met een aantal inspecties wat het percentage defecte lampen moet zijn\n",
    "\n",
    "2. Controleer daarna of dit juist was door de totale lijst met lampen te analyseren\n",
    "\n",
    "Bovenstaande is een voorbeeld van Baysiaanse statistiek."
   ]
  },
  {
   "cell_type": "code",
   "execution_count": 79,
   "id": "41472eea",
   "metadata": {},
   "outputs": [],
   "source": [
    "import pandas as pd"
   ]
  },
  {
   "cell_type": "code",
   "execution_count": 190,
   "id": "61a1d13d",
   "metadata": {},
   "outputs": [
    {
     "name": "stdout",
     "output_type": "stream",
     "text": [
      "565944\n",
      "199348\n"
     ]
    }
   ],
   "source": [
    "# Use pandas to read csv\n",
    "path = \"../practicum/batch.csv\"\n",
    "\n",
    "df = pd.read_csv(path)\n",
    "# Create list again.\n",
    "lamps3 = list()\n",
    "goody = 0\n",
    "baddy = 0\n",
    "for i in range(len(df.values)):\n",
    "    if df.values[i][0] == 1:\n",
    "        goody += 1\n",
    "        lamps3.append(f\"Good lamp {goody}\")\n",
    "    else:\n",
    "        baddy += 1\n",
    "        lamps3.append(f\"Bad lamp {baddy}\")\n",
    "\n",
    "print(goody)\n",
    "print(baddy)"
   ]
  },
  {
   "cell_type": "code",
   "execution_count": 203,
   "id": "b2e3b718",
   "metadata": {},
   "outputs": [
    {
     "name": "stdout",
     "output_type": "stream",
     "text": [
      "[20, 32, 28, 24, 28, 32, 16, 32, 12, 16, 24, 20, 32, 36, 32, 16, 32, 24, 16, 20, 40, 24, 20, 20, 32, 28, 24, 32, 24, 20]\n",
      "25.2%\n"
     ]
    }
   ],
   "source": [
    "# Do inspections on new list\n",
    "batch_size = 25\n",
    "batch_result = list()\n",
    "for j in range(30):\n",
    "    test_batch = sample(lamps3, batch_size)\n",
    "    test_count = 0\n",
    "\n",
    "    for i in range(len(test_batch)):\n",
    "        if test_batch[i][0:4] == \"Good\":\n",
    "            test_count += 1\n",
    "        \n",
    "    bad_batch = (batch_size - test_count)\n",
    "    batch_result.append(int(bad_batch*100/batch_size))\n",
    "\n",
    "print(batch_result)\n",
    "\n",
    "total_baddies = 0\n",
    "for n in range(len(batch_result)):\n",
    "    total_baddies += int(batch_result[n])\n",
    "\n",
    "average_baddies = total_baddies/len(batch_result)\n",
    "\n",
    "print(f\"{average_baddies}%\")\n",
    "\n",
    "# Looks like around 25% are bad\n"
   ]
  },
  {
   "cell_type": "code",
   "execution_count": 170,
   "id": "8843dbaa",
   "metadata": {},
   "outputs": [
    {
     "data": {
      "text/plain": [
       "0\n",
       "1    565944\n",
       "0    199348\n",
       "dtype: int64"
      ]
     },
     "execution_count": 170,
     "metadata": {},
     "output_type": "execute_result"
    }
   ],
   "source": [
    "# Lets check the actual values\n",
    "df.value_counts()"
   ]
  },
  {
   "cell_type": "code",
   "execution_count": 189,
   "id": "6656a7f3",
   "metadata": {},
   "outputs": [
    {
     "name": "stdout",
     "output_type": "stream",
     "text": [
      "26.048619350522415\n"
     ]
    }
   ],
   "source": [
    "# Now lets do a simple calculation to see how much that actualy is percentage wise\n",
    "bad_percentage = 199348*100/(565944 + 199348)\n",
    "print(bad_percentage)"
   ]
  }
 ],
 "metadata": {
  "kernelspec": {
   "display_name": "Python 3 (ipykernel)",
   "language": "python",
   "name": "python3"
  },
  "language_info": {
   "codemirror_mode": {
    "name": "ipython",
    "version": 3
   },
   "file_extension": ".py",
   "mimetype": "text/x-python",
   "name": "python",
   "nbconvert_exporter": "python",
   "pygments_lexer": "ipython3",
   "version": "3.10.11"
  },
  "toc-showcode": false,
  "toc-showmarkdowntxt": false
 },
 "nbformat": 4,
 "nbformat_minor": 5
}
