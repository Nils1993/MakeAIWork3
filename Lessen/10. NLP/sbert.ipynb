{
  "cells": [
    {
      "attachments": {},
      "cell_type": "markdown",
      "metadata": {},
      "source": [
        "<h1>Experimenting with a chat bot</h1>"
      ]
    },
    {
      "cell_type": "code",
      "execution_count": 3,
      "metadata": {
        "id": "GHCsNQOGTqx8"
      },
      "outputs": [],
      "source": [
        "from sentence_transformers import SentenceTransformer, util\n",
        "import torch\n",
        "model = SentenceTransformer('all-MiniLM-L12-v2')\n",
        "\n"
      ]
    },
    {
      "cell_type": "code",
      "execution_count": 21,
      "metadata": {},
      "outputs": [],
      "source": [
        "query_embedding = model.encode(input('What is your question?'))\n",
        "\n",
        "km = 500\n",
        "x = 23\n",
        "y = 30\n",
        "percentage = round((x*100) / y)\n",
        "possible_answers = [f\"From the {y} apples {x} are good apples, so thats {percentage}%. <( '-')/\",\n",
        "                    'How I classify apples is my little secret. >:)',\n",
        "                    f'Since there are {x} good apples in this batch, the amount of bad apples is {(y-x)}. :D',\n",
        "                    f\"There are {y} apples in this batch. :3\"]\n",
        "\n",
        "passage_embedding = model.encode(possible_answers)\n",
        "\n",
        "answer = util.dot_score(query_embedding, passage_embedding)\n",
        "v, idx = torch.max(answer, 1)\n",
        "print(possible_answers[idx])\n",
        "\n"
      ]
    }
  ],
  "metadata": {
    "colab": {
      "provenance": []
    },
    "kernelspec": {
      "display_name": "Python 3",
      "name": "python3"
    },
    "language_info": {
      "codemirror_mode": {
        "name": "ipython",
        "version": 3
      },
      "file_extension": ".py",
      "mimetype": "text/x-python",
      "name": "python",
      "nbconvert_exporter": "python",
      "pygments_lexer": "ipython3",
      "version": "3.10.11"
    }
  },
  "nbformat": 4,
  "nbformat_minor": 0
}
