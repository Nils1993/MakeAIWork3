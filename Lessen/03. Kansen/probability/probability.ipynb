{
 "cells": [
  {
   "attachments": {},
   "cell_type": "markdown",
   "id": "818a1af7-9708-4bae-92fe-fa36b678d2be",
   "metadata": {},
   "source": [
    "<a href=\"https://it-omscholing.nl/locaties/hogeschool-rotterdam/\">\n",
    "<div>\n",
    "<a><img src='../../../pics/banner.PNG'/></a>\n",
    "</div>\n",
    "<div>\n",
    "<a href=''><img src='../../../pics/miw.PNG'/></a>\n",
    "<em>Author: Jeroen Boogaard</em>\n",
    "</div>\n",
    "</a>"
   ]
  },
  {
   "attachments": {},
   "cell_type": "markdown",
   "id": "a9ff9227-1da2-489e-a4b4-d661d44ce68f",
   "metadata": {},
   "source": [
    "<h1>Practicum Basis Statistiek</h1>"
   ]
  },
  {
   "attachments": {},
   "cell_type": "markdown",
   "id": "0437b096-4322-4054-a14f-b26c9a12999d",
   "metadata": {},
   "source": [
    "<h2>Dobbelstenen</h2>"
   ]
  },
  {
   "attachments": {},
   "cell_type": "markdown",
   "id": "67fc0ddf-6732-496e-a406-77e1776d7359",
   "metadata": {},
   "source": [
    "<div>\n",
    "<img src='../../../pics/dobbelsteen.jpg'/>    \n",
    "</div>    "
   ]
  },
  {
   "cell_type": "code",
   "execution_count": 1,
   "id": "84d02a33",
   "metadata": {},
   "outputs": [],
   "source": [
    "from dobbelsteen import Dobbelsteen\n",
    "from itertools import product\n",
    "from matplotlib_venn import venn2\n",
    "import matplotlib.pyplot as plot\n",
    "import numpy as np\n",
    "import pandas as pd\n",
    "import pylab as plt\n",
    "import seaborn as sns\n",
    "import statistics as st"
   ]
  },
  {
   "attachments": {},
   "cell_type": "markdown",
   "id": "51aae3d0-f644-4552-870c-029b41f24559",
   "metadata": {},
   "source": [
    "<h2>Kansrekenen</h2>"
   ]
  },
  {
   "cell_type": "code",
   "execution_count": 2,
   "id": "18c0e9c1-d82a-46ee-b6fd-8af1b9f6c81f",
   "metadata": {},
   "outputs": [
    {
     "name": "stdout",
     "output_type": "stream",
     "text": [
      "┌─────────┐\n",
      "│  ●   ●  │\n",
      "│    ●    │\n",
      "│  ●   ●  │\n",
      "└─────────┘\n"
     ]
    }
   ],
   "source": [
    "d = Dobbelsteen()\n",
    "print(d.show())"
   ]
  },
  {
   "attachments": {},
   "cell_type": "markdown",
   "id": "170099a3-4baf-4d2b-9ee2-ba934e368432",
   "metadata": {},
   "source": [
    "<h3>Uitkomstruimte</h3>"
   ]
  },
  {
   "cell_type": "code",
   "execution_count": 3,
   "id": "efdbb9fe-07af-460f-81bb-868d15c2c64e",
   "metadata": {},
   "outputs": [
    {
     "name": "stdout",
     "output_type": "stream",
     "text": [
      "{1, 2, 3, 4, 5, 6}\n"
     ]
    }
   ],
   "source": [
    "print(d.values)  "
   ]
  },
  {
   "attachments": {},
   "cell_type": "markdown",
   "id": "8180133d-56ca-4366-8c0f-bfc87b73cbc5",
   "metadata": {},
   "source": [
    "<h3>Kansfunctie</h3>"
   ]
  },
  {
   "cell_type": "code",
   "execution_count": 4,
   "id": "c652271d-7f13-493e-a14e-d70a21e2de39",
   "metadata": {},
   "outputs": [
    {
     "name": "stdout",
     "output_type": "stream",
     "text": [
      "p(1) = 1/6\n",
      "p(2) = 1/6\n",
      "p(3) = 1/6\n",
      "p(4) = 1/6\n",
      "p(5) = 1/6\n",
      "p(6) = 1/6\n"
     ]
    }
   ],
   "source": [
    "p = \"1/6\"\n",
    "prob = {element:p for element in d.getList()}\n",
    "\n",
    "for i in d.getList():\n",
    "    print( f\"p({i}) = {prob.get(i)}\" )"
   ]
  },
  {
   "attachments": {},
   "cell_type": "markdown",
   "id": "80c83e13-30fe-40e2-b7a6-d58e9dfebdd1",
   "metadata": {},
   "source": [
    "<h2>Twee dobbelstenen</h2>"
   ]
  },
  {
   "cell_type": "code",
   "execution_count": 5,
   "id": "03ff353d-e88e-416e-bd64-5ab2b47c8e84",
   "metadata": {},
   "outputs": [
    {
     "name": "stdout",
     "output_type": "stream",
     "text": [
      "┌─────────┐\n",
      "│  ●   ●  │\n",
      "│    ●    │\n",
      "│  ●   ●  │\n",
      "└─────────┘\n",
      "┌─────────┐\n",
      "│         │\n",
      "│    ●    │\n",
      "│         │\n",
      "└─────────┘\n",
      "\n"
     ]
    }
   ],
   "source": [
    "d0 = Dobbelsteen()\n",
    "d1 = Dobbelsteen()\n",
    "print( f\"{d0.show()}\\n{d1.show()}\" )"
   ]
  },
  {
   "attachments": {},
   "cell_type": "markdown",
   "id": "efa076ad-8f22-4db5-a835-c42599369263",
   "metadata": {},
   "source": [
    "<h3>Uitkomstruimte</h3>"
   ]
  },
  {
   "cell_type": "code",
   "execution_count": 6,
   "id": "0ee9d6ad-5b3a-418b-bd41-84ff8d7a50a0",
   "metadata": {},
   "outputs": [
    {
     "data": {
      "image/png": "[encoded data removed]",
      "text/plain": [
       "<Figure size 640x480 with 1 Axes>"
      ]
     },
     "metadata": {},
     "output_type": "display_data"
    }
   ],
   "source": [
    "v = venn2(subsets=(1,1,0,1,0))\n",
    "uitkomsten = \"1 2 3 4 5 6\"\n",
    "v.get_label_by_id('100').set_text(uitkomsten)\n",
    "v.get_label_by_id('010').set_text(uitkomsten)\n",
    "plt.title(\"Twee dobbelstenen\")\n",
    "plt.show()"
   ]
  },
  {
   "attachments": {},
   "cell_type": "markdown",
   "id": "cd3605f8-a3ae-4c51-89f1-9121efb85f40",
   "metadata": {},
   "source": [
    "<h3>Exercise 1</h3>"
   ]
  },
  {
   "attachments": {},
   "cell_type": "markdown",
   "id": "4ad197b3-806e-4fdf-8403-cc63a2fc49b6",
   "metadata": {},
   "source": [
    "<h4>Gegeven</h4>\n",
    "<p>Dobbelstenen d0 en d1</p>"
   ]
  },
  {
   "attachments": {},
   "cell_type": "markdown",
   "id": "99703aeb-ae1d-4662-9ff0-c77bb458dfcf",
   "metadata": {},
   "source": [
    "<h4>Gevraagd</h4>\n",
    "<p>\n",
    "    Maak een <u>set</u> van de <u>gecombineerde uitkomstruimte</u> <i>dice</i> die ontstaat door dobbelstenen d0 en d1 tegelijkertijd te werpen\n",
    "</p>"
   ]
  },
  {
   "attachments": {},
   "cell_type": "markdown",
   "id": "cc81594b-54a3-4c6f-82df-03fed6ad4b62",
   "metadata": {},
   "source": [
    "<h4>Oplossing</h4>"
   ]
  },
  {
   "cell_type": "code",
   "execution_count": 7,
   "id": "7d36cbcd-ff5a-4b23-a6d6-d37d736ab4df",
   "metadata": {
    "tags": []
   },
   "outputs": [],
   "source": [
    "# Oplossing\n",
    "d00 = range(1,7)\n",
    "d01 = range(1,7)\n",
    "\n",
    "sample_range = product(d00,d01)\n",
    "\n",
    "\n",
    "\n"
   ]
  },
  {
   "attachments": {},
   "cell_type": "markdown",
   "id": "2e6623ca-8e7c-4168-acc8-91a91ae23297",
   "metadata": {},
   "source": [
    "<h3>Exercise 2</h3>"
   ]
  },
  {
   "attachments": {},
   "cell_type": "markdown",
   "id": "0d6f96b6-34d0-400a-8cf3-b62fbf16cb64",
   "metadata": {},
   "source": [
    "<h4>Gegeven</h4>\n",
    "<p>Dobbelstenen <i>d0</i> en <i>d1</i> en hun gecombineerde uitkomstruimte <i>dice</i></p>"
   ]
  },
  {
   "attachments": {},
   "cell_type": "markdown",
   "id": "9f245fb3-2a56-44c5-b883-76cef863aba0",
   "metadata": {},
   "source": [
    "<h3>Gevraagd</h3>\n",
    "<p>\n",
    "    Geef de <u>kansmassa-functie</u> van de som van het aantal ogen van <i>d0</i> en <i>d1</i><br>\n",
    "    <strong>TIP</strong>: Maak eerst een dictionary met daarin per alle uitkomsten\n",
    "</p>"
   ]
  },
  {
   "attachments": {},
   "cell_type": "markdown",
   "id": "7810f233-a09a-4636-9b17-15fa90aad0d2",
   "metadata": {},
   "source": [
    "<h4>Oplossing</h4>"
   ]
  },
  {
   "cell_type": "code",
   "execution_count": 8,
   "id": "b7c6945d-683b-4049-ab45-973d13fea8ba",
   "metadata": {},
   "outputs": [
    {
     "name": "stdout",
     "output_type": "stream",
     "text": [
      "0.027777777777777776\n"
     ]
    }
   ],
   "source": [
    "# Oplossing\n",
    "sample_range = list(sample_range)\n",
    "uitkomsten = {i:sum(i) for i in sample_range}\n",
    "\n",
    "def kansmassa(number):\n",
    "    counter = 0\n",
    "    for key, value in uitkomsten.items():\n",
    "        if sum(key) == number:\n",
    "            counter += 1\n",
    "    print(counter/36)\n",
    "    \n",
    "\n",
    "    \n",
    "kansmassa(2)"
   ]
  },
  {
   "attachments": {},
   "cell_type": "markdown",
   "id": "c878858c-a5c8-4c52-b093-13b46ae78b7d",
   "metadata": {},
   "source": [
    "<h3>Metrics</h3>"
   ]
  },
  {
   "attachments": {},
   "cell_type": "markdown",
   "id": "dce2fe5f-9c9d-49e8-a03b-28d0eedc368f",
   "metadata": {},
   "source": [
    "**Gebruik een numpy array voor het bepalen van centrum-maten**"
   ]
  },
  {
   "attachments": {},
   "cell_type": "markdown",
   "id": "e82be685-7f00-4b64-8b4a-e47c9b584e0b",
   "metadata": {},
   "source": [
    "<h3>Exercise 3a</h3>"
   ]
  },
  {
   "attachments": {},
   "cell_type": "markdown",
   "id": "0a1f3850-fe36-4b18-b5f4-d3887c8a9341",
   "metadata": {},
   "source": [
    "<h4>Gegeven</h4>\n",
    "<p>De class Dobbelsteen in de module dobbelsteen.py</p>"
   ]
  },
  {
   "cell_type": "code",
   "execution_count": 9,
   "id": "619543c6-d4ee-4352-9a6b-dc77ddf660de",
   "metadata": {},
   "outputs": [],
   "source": [
    "d2 = Dobbelsteen()\n",
    "d3 = Dobbelsteen()\n",
    "histD2 = np.empty(1000)\n",
    "histD3 = np.empty(1000)"
   ]
  },
  {
   "attachments": {},
   "cell_type": "markdown",
   "id": "2c2b9484-ff4a-4634-9e95-09bc9a808c51",
   "metadata": {
    "tags": []
   },
   "source": [
    "<h4>Gevraagd</h4>\n",
    "<p>\n",
    "    Voeg het volgende toe aan class Dobbelsteen:\n",
    "    <ol>\n",
    "        <li>list variabele <u>history</u> waaraan de uitkomst van iedere worp wordt toegevoegd</li>\n",
    "        <li>methode <u>getHistory(self)</u> die de waarde van variabele <u>history</u> geeft als <u>numpy-array</u></li>\n",
    "    <li>Schrijf in de cell hieronder een loop die 1000 keer zowel <i>d2</i> als <i>d3</i> werpt en sla de uitkomsten op in rescpectievelijk <i>histD2</i> en <i>histD3</i>. Maak daarbij gebruik van de methode <u>getHistory()</u> uit de vorige stap</li>\n",
    "    </ol>\n",
    " </p>  "
   ]
  },
  {
   "cell_type": "code",
   "execution_count": 12,
   "id": "70ff2f75-ffd2-425a-af9e-0ae7e169bd99",
   "metadata": {},
   "outputs": [
    {
     "name": "stdout",
     "output_type": "stream",
     "text": [
      "[1. 5. 1. 6. 3. 4. 5. 4. 5. 1. 3. 1. 3. 3. 4. 5. 2. 2. 2. 6. 4. 6. 2. 4.\n",
      " 6. 6. 2. 4. 6. 3. 5. 5. 5. 6. 6. 2. 6. 5. 6. 5. 5. 6. 3. 3. 4. 1. 1. 1.\n",
      " 5. 3. 3. 2. 3. 2. 5. 3. 4. 2. 3. 5. 4. 4. 6. 5. 5. 6. 1. 1. 1. 6. 2. 3.\n",
      " 4. 2. 2. 2. 5. 5. 2. 6. 6. 5. 5. 6. 6. 1. 2. 2. 4. 1. 4. 4. 5. 6. 1. 5.\n",
      " 4. 5. 4. 2. 6. 4. 1. 1. 6. 6. 1. 5. 3. 4. 1. 1. 2. 4. 5. 1. 4. 6. 5. 4.\n",
      " 3. 6. 2. 2. 3. 6. 6. 1. 6. 5. 3. 6. 5. 3. 6. 6. 3. 2. 2. 2. 5. 5. 6. 6.\n",
      " 5. 6. 6. 2. 5. 6. 5. 6. 5. 2. 3. 2. 5. 5. 4. 2. 3. 1. 4. 4. 6. 4. 6. 4.\n",
      " 2. 3. 5. 3. 3. 1. 4. 3. 1. 6. 5. 5. 1. 2. 5. 1. 2. 1. 3. 3. 2. 1. 1. 6.\n",
      " 5. 4. 3. 1. 6. 3. 1. 4. 2. 3. 6. 5. 1. 4. 1. 4. 1. 6. 5. 3. 2. 5. 5. 4.\n",
      " 3. 3. 2. 1. 1. 1. 4. 4. 4. 6. 4. 4. 3. 5. 5. 5. 5. 6. 2. 5. 4. 2. 5. 4.\n",
      " 5. 1. 4. 5. 5. 3. 4. 4. 5. 6. 2. 2. 3. 4. 2. 1. 2. 6. 2. 4. 5. 5. 3. 2.\n",
      " 2. 4. 1. 1. 6. 4. 3. 2. 1. 2. 4. 2. 2. 2. 5. 4. 5. 3. 2. 2. 3. 6. 3. 2.\n",
      " 5. 1. 4. 5. 1. 4. 4. 1. 1. 6. 4. 2. 2. 1. 2. 6. 4. 3. 5. 1. 2. 4. 2. 1.\n",
      " 1. 5. 2. 2. 4. 4. 4. 5. 3. 3. 3. 5. 5. 5. 5. 4. 1. 4. 3. 1. 3. 3. 4. 4.\n",
      " 4. 4. 6. 4. 4. 5. 3. 4. 2. 2. 3. 3. 5. 6. 5. 6. 3. 6. 6. 6. 6. 3. 4. 6.\n",
      " 1. 1. 6. 5. 6. 3. 6. 5. 4. 1. 6. 5. 3. 1. 4. 2. 2. 1. 5. 3. 2. 3. 3. 2.\n",
      " 1. 1. 5. 6. 1. 6. 6. 2. 3. 3. 5. 3. 3. 3. 4. 3. 5. 6. 1. 2. 4. 3. 1. 3.\n",
      " 4. 2. 1. 5. 5. 3. 5. 6. 3. 3. 4. 6. 6. 4. 1. 4. 6. 6. 5. 6. 1. 2. 3. 5.\n",
      " 3. 2. 1. 2. 3. 1. 2. 4. 4. 6. 3. 4. 3. 2. 4. 6. 4. 4. 6. 6. 1. 2. 5. 3.\n",
      " 2. 5. 2. 6. 5. 2. 5. 6. 2. 6. 4. 3. 3. 1. 1. 6. 2. 4. 2. 4. 1. 1. 5. 1.\n",
      " 6. 3. 5. 6. 5. 5. 3. 3. 2. 5. 2. 2. 5. 5. 6. 5. 3. 4. 4. 5. 4. 2. 2. 3.\n",
      " 2. 2. 2. 3. 3. 5. 1. 4. 5. 1. 6. 2. 5. 5. 6. 6. 4. 6. 1. 6. 1. 2. 2. 4.\n",
      " 2. 1. 3. 4. 1. 5. 2. 1. 6. 2. 1. 3. 4. 6. 2. 4. 4. 4. 4. 5. 4. 5. 3. 1.\n",
      " 3. 5. 6. 3. 4. 5. 4. 5. 4. 1. 4. 4. 4. 3. 6. 3. 3. 4. 1. 2. 1. 2. 5. 3.\n",
      " 4. 5. 6. 1. 1. 4. 5. 6. 4. 2. 5. 2. 1. 4. 4. 2. 6. 4. 6. 6. 4. 5. 3. 4.\n",
      " 5. 1. 6. 6. 6. 5. 6. 2. 2. 3. 5. 2. 6. 3. 1. 1. 4. 2. 3. 4. 5. 6. 5. 3.\n",
      " 1. 5. 1. 4. 5. 5. 5. 1. 5. 1. 3. 5. 6. 6. 4. 6. 2. 4. 3. 3. 3. 4. 4. 2.\n",
      " 5. 4. 4. 6. 1. 2. 1. 6. 3. 3. 3. 6. 2. 4. 2. 5. 5. 1. 4. 3. 6. 1. 1. 2.\n",
      " 5. 4. 2. 5. 1. 4. 1. 6. 1. 5. 4. 6. 4. 1. 2. 6. 2. 6. 2. 3. 4. 4. 6. 1.\n",
      " 4. 1. 6. 3. 4. 6. 5. 2. 3. 6. 2. 5. 5. 4. 2. 4. 5. 3. 6. 6. 5. 2. 4. 6.\n",
      " 3. 5. 4. 5. 5. 1. 4. 3. 4. 2. 3. 2. 5. 6. 6. 3. 2. 3. 5. 5. 4. 1. 5. 3.\n",
      " 3. 5. 3. 5. 3. 6. 5. 2. 3. 3. 6. 1. 3. 3. 4. 3. 6. 5. 3. 2. 2. 4. 6. 4.\n",
      " 5. 6. 2. 3. 2. 5. 2. 2. 6. 4. 4. 1. 4. 5. 4. 6. 4. 4. 1. 3. 4. 3. 1. 4.\n",
      " 5. 1. 6. 3. 2. 1. 1. 2. 2. 4. 1. 1. 1. 3. 2. 6. 2. 5. 3. 3. 6. 6. 1. 3.\n",
      " 3. 4. 1. 5. 1. 1. 1. 2. 2. 4. 2. 1. 6. 5. 6. 1. 5. 4. 6. 3. 1. 1. 2. 5.\n",
      " 2. 2. 3. 6. 2. 5. 2. 2. 3. 5. 2. 6. 4. 1. 3. 4. 6. 2. 3. 4. 5. 2. 6. 2.\n",
      " 1. 1. 2. 5. 3. 3. 2. 5. 1. 6. 4. 4. 3. 3. 6. 2. 6. 5. 2. 3. 4. 1. 4. 6.\n",
      " 4. 1. 4. 1. 3. 4. 3. 6. 6. 1. 2. 1. 1. 5. 3. 2. 1. 3. 1. 6. 2. 6. 6. 2.\n",
      " 3. 5. 4. 5. 6. 5. 4. 3. 5. 6. 4. 3. 2. 3. 2. 6. 3. 6. 2. 5. 3. 3. 1. 3.\n",
      " 5. 5. 1. 6. 5. 5. 5. 5. 4. 6. 1. 1. 4. 5. 5. 6. 3. 5. 5. 3. 6. 1. 3. 1.\n",
      " 3. 6. 3. 3. 6. 6. 3. 2. 2. 1. 3. 4. 5. 3. 5. 4. 3. 4. 2. 3. 1. 3. 4. 3.\n",
      " 6. 5. 2. 2. 5. 5. 5. 3. 6. 4. 3. 2. 2. 2. 4. 5.]\n",
      "[2. 6. 4. 6. 6. 2. 3. 4. 6. 6. 1. 5. 4. 1. 5. 3. 1. 4. 1. 2. 6. 2. 4. 3.\n",
      " 2. 4. 5. 1. 6. 6. 2. 2. 5. 5. 5. 6. 1. 1. 5. 2. 5. 3. 6. 6. 4. 1. 1. 5.\n",
      " 2. 1. 4. 5. 2. 5. 4. 6. 2. 5. 1. 2. 6. 3. 3. 2. 4. 3. 5. 6. 3. 6. 2. 5.\n",
      " 5. 5. 1. 5. 5. 5. 5. 5. 3. 3. 3. 3. 2. 1. 3. 2. 5. 1. 5. 4. 4. 6. 2. 4.\n",
      " 6. 2. 1. 5. 6. 1. 6. 5. 2. 3. 1. 2. 6. 5. 2. 6. 5. 6. 4. 3. 2. 2. 4. 4.\n",
      " 5. 1. 6. 3. 4. 5. 1. 3. 6. 5. 5. 4. 2. 5. 5. 6. 6. 1. 3. 3. 1. 6. 6. 4.\n",
      " 3. 3. 5. 4. 2. 4. 4. 5. 5. 1. 4. 6. 4. 5. 2. 3. 2. 2. 3. 5. 2. 5. 1. 3.\n",
      " 5. 1. 1. 3. 3. 2. 2. 2. 2. 3. 3. 1. 4. 6. 2. 4. 6. 5. 5. 1. 6. 3. 2. 1.\n",
      " 6. 2. 3. 6. 2. 1. 2. 6. 3. 4. 2. 3. 4. 2. 4. 1. 5. 3. 6. 2. 4. 1. 4. 3.\n",
      " 1. 1. 2. 3. 4. 3. 6. 6. 1. 1. 2. 1. 2. 4. 6. 2. 1. 4. 2. 1. 5. 4. 2. 1.\n",
      " 3. 2. 3. 2. 3. 2. 5. 1. 5. 3. 1. 6. 3. 3. 3. 5. 6. 6. 5. 5. 5. 5. 2. 2.\n",
      " 2. 5. 5. 4. 2. 1. 3. 5. 1. 4. 1. 1. 6. 4. 2. 5. 2. 4. 5. 1. 5. 6. 1. 5.\n",
      " 5. 3. 5. 3. 1. 6. 5. 4. 2. 3. 1. 5. 5. 5. 3. 5. 4. 2. 3. 3. 6. 4. 3. 5.\n",
      " 6. 2. 3. 6. 4. 1. 2. 6. 3. 1. 2. 5. 6. 6. 4. 5. 6. 6. 6. 2. 3. 1. 1. 2.\n",
      " 1. 3. 2. 1. 3. 1. 1. 3. 6. 4. 6. 4. 6. 6. 2. 5. 2. 4. 4. 3. 5. 6. 3. 3.\n",
      " 5. 3. 3. 2. 2. 6. 6. 2. 1. 4. 5. 2. 1. 4. 4. 5. 4. 2. 1. 4. 4. 4. 4. 2.\n",
      " 6. 6. 3. 6. 3. 5. 3. 5. 2. 3. 5. 6. 5. 5. 3. 2. 6. 3. 5. 1. 5. 1. 6. 4.\n",
      " 4. 2. 6. 6. 5. 6. 6. 6. 6. 1. 2. 1. 6. 2. 4. 6. 1. 6. 1. 5. 3. 6. 5. 4.\n",
      " 3. 3. 6. 3. 5. 3. 3. 5. 1. 1. 4. 5. 3. 3. 6. 5. 6. 5. 5. 4. 5. 1. 4. 4.\n",
      " 3. 5. 2. 6. 4. 6. 6. 6. 5. 6. 2. 5. 2. 2. 2. 3. 5. 5. 1. 6. 5. 4. 4. 4.\n",
      " 3. 3. 1. 5. 6. 4. 3. 1. 3. 4. 3. 1. 3. 1. 2. 3. 6. 6. 2. 5. 3. 6. 5. 6.\n",
      " 6. 6. 2. 6. 3. 2. 2. 4. 3. 2. 4. 5. 5. 1. 6. 6. 3. 1. 4. 3. 3. 2. 1. 6.\n",
      " 5. 1. 3. 3. 5. 6. 2. 5. 1. 4. 1. 4. 1. 4. 3. 4. 5. 3. 5. 2. 4. 3. 4. 3.\n",
      " 6. 2. 3. 1. 3. 5. 6. 1. 4. 3. 3. 6. 5. 6. 2. 5. 6. 5. 4. 1. 2. 2. 3. 1.\n",
      " 6. 6. 3. 4. 2. 2. 5. 3. 6. 2. 2. 4. 2. 1. 2. 2. 3. 2. 2. 6. 4. 1. 5. 1.\n",
      " 3. 4. 1. 5. 2. 4. 1. 6. 4. 4. 6. 1. 6. 2. 2. 4. 6. 4. 1. 3. 2. 6. 2. 5.\n",
      " 2. 5. 4. 5. 1. 5. 1. 1. 4. 1. 2. 6. 6. 2. 4. 3. 6. 3. 6. 3. 3. 1. 3. 3.\n",
      " 4. 5. 5. 5. 3. 2. 1. 3. 2. 4. 4. 6. 1. 6. 6. 4. 1. 1. 4. 6. 2. 6. 3. 5.\n",
      " 5. 3. 3. 5. 6. 4. 4. 3. 4. 6. 5. 2. 1. 5. 2. 4. 1. 6. 3. 1. 6. 3. 3. 1.\n",
      " 1. 3. 4. 3. 5. 3. 1. 2. 4. 6. 2. 1. 6. 2. 1. 6. 4. 1. 2. 1. 3. 3. 5. 6.\n",
      " 3. 4. 3. 3. 4. 3. 4. 6. 4. 1. 6. 3. 4. 4. 5. 3. 5. 4. 4. 3. 3. 6. 2. 1.\n",
      " 2. 6. 2. 2. 1. 6. 5. 1. 5. 6. 6. 4. 5. 4. 4. 6. 4. 1. 4. 3. 1. 5. 2. 5.\n",
      " 6. 3. 3. 2. 3. 3. 1. 1. 1. 6. 4. 6. 1. 2. 5. 2. 5. 2. 2. 2. 1. 2. 5. 2.\n",
      " 2. 2. 5. 5. 2. 2. 6. 4. 3. 3. 6. 5. 4. 2. 1. 2. 6. 6. 5. 5. 2. 4. 2. 3.\n",
      " 5. 1. 1. 4. 6. 2. 2. 1. 2. 4. 1. 1. 1. 1. 1. 1. 2. 3. 1. 2. 5. 6. 6. 4.\n",
      " 4. 2. 6. 2. 3. 3. 4. 1. 5. 6. 3. 4. 5. 2. 5. 5. 3. 5. 6. 5. 1. 2. 2. 6.\n",
      " 4. 6. 3. 6. 6. 6. 1. 5. 2. 4. 5. 6. 1. 6. 4. 3. 3. 5. 2. 3. 5. 4. 2. 5.\n",
      " 3. 3. 4. 1. 2. 5. 4. 4. 6. 3. 3. 3. 5. 5. 6. 6. 5. 4. 6. 6. 5. 3. 1. 5.\n",
      " 2. 6. 2. 4. 4. 2. 6. 5. 2. 2. 1. 2. 2. 4. 2. 1. 6. 3. 3. 1. 3. 1. 5. 2.\n",
      " 3. 4. 5. 3. 2. 1. 2. 3. 5. 5. 1. 2. 3. 1. 2. 6. 1. 5. 2. 4. 3. 5. 4. 6.\n",
      " 5. 2. 2. 2. 4. 6. 5. 5. 5. 6. 2. 5. 3. 2. 5. 4. 5. 2. 2. 3. 3. 6. 2. 3.\n",
      " 6. 5. 4. 1. 1. 3. 3. 5. 3. 6. 1. 2. 4. 5. 3. 1.]\n"
     ]
    }
   ],
   "source": [
    "# Oplossing\n",
    "for i in range(1000):\n",
    "    histD2[i] = d2.getHistory()\n",
    "    histD3[i] = d3.getHistory()\n",
    "\n",
    "print(histD2)\n"
   ]
  },
  {
   "attachments": {},
   "cell_type": "markdown",
   "id": "c252c0ad-fcc1-4e19-8e5c-e5d210d603a9",
   "metadata": {},
   "source": [
    "<h3>Exercise 3b</h3>"
   ]
  },
  {
   "attachments": {},
   "cell_type": "markdown",
   "id": "e954f144-4cdf-487f-8ac3-dd81b82abd54",
   "metadata": {},
   "source": [
    "<h4>Gevraagd</h4>\n",
    "<p>\n",
    "    <ol>\n",
    "        <li>Maak een <u>numpy array histD2D3</u> waarin de uitkomsten van <i>d2</i> en <i>d3</i> paarsgewijs bij elkaar zijn opgeteld.<br> <strong>Hint</strong>: <i>histD2D3 = np.add(histD2, histD3)</i></li> \n",
    "        <li>Print van de modus van zowel histD2 als histD3</li>\n",
    "        <li>Vul onderstaande code aan een <u>histogram van histD2D3</u>.\n",
    "    </ol>\n",
    " </p>  "
   ]
  },
  {
   "cell_type": "code",
   "execution_count": 25,
   "id": "2a008910-462a-4df2-bc93-baf00bc09690",
   "metadata": {},
   "outputs": [
    {
     "name": "stdout",
     "output_type": "stream",
     "text": [
      "{3.0: 59, 11.0: 50, 5.0: 116, 12.0: 36, 9.0: 142, 6.0: 120, 8.0: 131, 7.0: 170, 4.0: 79, 10.0: 78, 2.0: 19}\n",
      "the modus is: 7.0\n"
     ]
    },
    {
     "data": {
      "image/png": "[encoded data removed]",
      "text/plain": [
       "<Figure size 640x480 with 1 Axes>"
      ]
     },
     "metadata": {},
     "output_type": "display_data"
    }
   ],
   "source": [
    "# Oplossing\n",
    "histD2D3 = np.add(histD2, histD3)\n",
    "counter = {}\n",
    "\n",
    "for number in histD2D3:\n",
    "    if number not in counter:\n",
    "        counter[number] = 0\n",
    "    counter[number] += 1\n",
    "\n",
    "modus = max(counter, key=counter.get)\n",
    "print(counter)\n",
    "print(f\"the modus is: {modus}\")\n",
    "\n",
    "# Rechtermarge van 2 toegevoegd\n",
    "bins = range(int(histD2D3.min()), int(histD2D3.max()+2))\n",
    "plt.hist(histD2D3, bins) \n",
    "plt.title(\"Som van twee dobbelstenen\") \n",
    "plt.show()"
   ]
  }
 ],
 "metadata": {
  "kernelspec": {
   "display_name": "Python 3 (ipykernel)",
   "language": "python",
   "name": "python3"
  },
  "language_info": {
   "codemirror_mode": {
    "name": "ipython",
    "version": 3
   },
   "file_extension": ".py",
   "mimetype": "text/x-python",
   "name": "python",
   "nbconvert_exporter": "python",
   "pygments_lexer": "ipython3",
   "version": "3.10.11"
  },
  "vscode": {
   "interpreter": {
    "hash": "d02fac44709278d5f28054e7c5f80cc0816c38bd22abdc341a16741f693f9ad6"
   }
  }
 },
 "nbformat": 4,
 "nbformat_minor": 5
}
